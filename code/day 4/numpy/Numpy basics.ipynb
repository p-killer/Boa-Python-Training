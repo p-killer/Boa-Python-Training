{
 "metadata": {
  "name": "numpy basics.ipynb",
  "signature": "sha256:9d1a691e6a10ffdffa419c479c8bb56f33de1f4485cbaf78a2779853a120b619"
 },
 "nbformat": 3,
 "nbformat_minor": 0,
 "worksheets": [
  {
   "cells": [
    {
     "cell_type": "markdown",
     "metadata": {},
     "source": [
      "To know about Numpy check my [blog](http://www.bigdataexaminer.com/5-amazingly-powerful-python-libraries-for-data-science/)"
     ]
    },
    {
     "cell_type": "markdown",
     "metadata": {},
     "source": [
      "#N- Dimensional array\n",
      "\n",
      "Arrays allows you to perform mathematical operations on whole blocks of data."
     ]
    },
    {
     "cell_type": "code",
     "collapsed": false,
     "input": [
      "# easiest way to create an array is by using an array function\n",
      "import numpy as np # I am importing numpy as np\n",
      "\n",
      "scores = [89,56.34, 76,89, 98]\n",
      "first_arr =np.array(scores)\n",
      "print first_arr\n",
      "print first_arr.dtype  # .dtype return the data type of the array object"
     ],
     "language": "python",
     "metadata": {},
     "outputs": [
      {
       "output_type": "stream",
       "stream": "stdout",
       "text": [
        "[ 89.    56.34  76.    89.    98.  ]\n",
        "float64\n"
       ]
      }
     ],
     "prompt_number": 1
    },
    {
     "cell_type": "code",
     "collapsed": false,
     "input": [
      "# Nested lists with equal length, will be converted into a multidimensional array\n",
      "scores_1 = [[34,56,23,89], [11,45,76,34]]\n",
      "second_arr = np.array(scores_1)\n",
      "print second_arr\n",
      "print second_arr.ndim  #.ndim gives you the dimensions of an array.\n",
      "print second_arr.shape #(number of rows, number of columns)\n",
      "print second_arr.dtype "
     ],
     "language": "python",
     "metadata": {},
     "outputs": [
      {
       "output_type": "stream",
       "stream": "stdout",
       "text": [
        "[[34 56 23 89]\n",
        " [11 45 76 34]]\n",
        "2\n",
        "(2L, 4L)\n",
        "int32\n"
       ]
      }
     ],
     "prompt_number": 22
    },
    {
     "cell_type": "code",
     "collapsed": false,
     "input": [
      "x = np.zeros(10) # returns a array of zeros, the same applies for np.ones(10)\n",
      "x"
     ],
     "language": "python",
     "metadata": {},
     "outputs": [
      {
       "metadata": {},
       "output_type": "pyout",
       "prompt_number": 28,
       "text": [
        "array([ 0.,  0.,  0.,  0.,  0.,  0.,  0.,  0.,  0.,  0.])"
       ]
      }
     ],
     "prompt_number": 28
    },
    {
     "cell_type": "code",
     "collapsed": false,
     "input": [
      "np.zeros((4,3)) # you can also mention the shape of the array"
     ],
     "language": "python",
     "metadata": {},
     "outputs": [
      {
       "metadata": {},
       "output_type": "pyout",
       "prompt_number": 30,
       "text": [
        "array([[ 0.,  0.,  0.],\n",
        "       [ 0.,  0.,  0.],\n",
        "       [ 0.,  0.,  0.],\n",
        "       [ 0.,  0.,  0.]])"
       ]
      }
     ],
     "prompt_number": 30
    },
    {
     "cell_type": "code",
     "collapsed": false,
     "input": [
      "np.arange(15)"
     ],
     "language": "python",
     "metadata": {},
     "outputs": [
      {
       "metadata": {},
       "output_type": "pyout",
       "prompt_number": 34,
       "text": [
        "array([ 0,  1,  2,  3,  4,  5,  6,  7,  8,  9, 10, 11, 12, 13, 14])"
       ]
      }
     ],
     "prompt_number": 34
    },
    {
     "cell_type": "code",
     "collapsed": false,
     "input": [
      "np.eye(6) # Create a square N x N identity matrix (1\u2019s on the diagonal and 0\u2019s elsewhere)"
     ],
     "language": "python",
     "metadata": {},
     "outputs": [
      {
       "metadata": {},
       "output_type": "pyout",
       "prompt_number": 36,
       "text": [
        "array([[ 1.,  0.,  0.,  0.,  0.,  0.],\n",
        "       [ 0.,  1.,  0.,  0.,  0.,  0.],\n",
        "       [ 0.,  0.,  1.,  0.,  0.,  0.],\n",
        "       [ 0.,  0.,  0.,  1.,  0.,  0.],\n",
        "       [ 0.,  0.,  0.,  0.,  1.,  0.],\n",
        "       [ 0.,  0.,  0.,  0.,  0.,  1.]])"
       ]
      }
     ],
     "prompt_number": 36
    },
    {
     "cell_type": "code",
     "collapsed": false,
     "input": [
      "#Batch operations on data can be performed without using for loops, this is called vectorization\n",
      "scores = [89,56.34, 76,89, 98]\n",
      "first_arr =np.array(scores)\n",
      "print first_arr\n",
      "print first_arr * first_arr\n",
      "print first_arr - first_arr\n",
      "print 1/(first_arr)\n",
      "print first_arr ** 0.5"
     ],
     "language": "python",
     "metadata": {},
     "outputs": [
      {
       "output_type": "stream",
       "stream": "stdout",
       "text": [
        "[ 89.    56.34  76.    89.    98.  ]\n",
        "[ 7921.      3174.1956  5776.      7921.      9604.    ]\n",
        "[ 0.  0.  0.  0.  0.]\n",
        "[ 0.01123596  0.01774938  0.01315789  0.01123596  0.01020408]\n",
        "[ 9.43398113  7.5059976   8.71779789  9.43398113  9.89949494]\n"
       ]
      }
     ],
     "prompt_number": 10
    },
    {
     "cell_type": "markdown",
     "metadata": {},
     "source": [
      "#Indexing and Slicing"
     ]
    },
    {
     "cell_type": "code",
     "collapsed": false,
     "input": [
      "# you may want to select a subset of your data, for which Numpy array indexing is really useful\n",
      "new_arr = np.arange(12)\n",
      "print new_arr\n",
      "print new_arr[5]\n",
      "print new_arr[4:9]\n",
      "new_arr[4:9] = 99 #assign sequence of values from 4 to 9 as 99\n",
      "print new_arr"
     ],
     "language": "python",
     "metadata": {},
     "outputs": [
      {
       "output_type": "stream",
       "stream": "stdout",
       "text": [
        "[ 0  1  2  3  4  5  6  7  8  9 10 11]\n",
        "5\n",
        "[4 5 6 7 8]\n",
        "[ 0  1  2  3 99 99 99 99 99  9 10 11]\n"
       ]
      }
     ],
     "prompt_number": 26
    },
    {
     "cell_type": "code",
     "collapsed": false,
     "input": [
      "# A major diffence between lists and array is that, array slices are views on the original array. This means that\n",
      "# the data is not copied, and any modifications to the view will be reflected in the source\n",
      "#  array. \n",
      "modi_arr = new_arr[4:9] \n",
      "modi_arr[1] = 123456\n",
      "print new_arr                  # you can see the changes are refelected in main array. \n",
      "modi_arr[:]                  # the sliced variable\n",
      "            "
     ],
     "language": "python",
     "metadata": {},
     "outputs": [
      {
       "output_type": "stream",
       "stream": "stdout",
       "text": [
        "[     0      1      2      3     99 123456     99     99     99      9\n",
        "     10     11]\n"
       ]
      },
      {
       "metadata": {},
       "output_type": "pyout",
       "prompt_number": 27,
       "text": [
        "array([    99, 123456,     99,     99,     99])"
       ]
      }
     ],
     "prompt_number": 27
    },
    {
     "cell_type": "code",
     "collapsed": false,
     "input": [
      "# arrays can be treated like matrices\n",
      "matrix_arr =np.array([[3,4,5],[6,7,8],[9,5,1]])\n",
      "print matrix_arr\n",
      "print matrix_arr[1]\n",
      "print matrix_arr[0][2] #first row and third column\n",
      "print matrix_arr[0,2] # This is same as the above operation\n",
      "\n",
      "from IPython.display import Image  # importing a image from my computer.\n",
      "i = Image(filename='Capture.png')\n",
      "i # Blue print of a matrix "
     ],
     "language": "python",
     "metadata": {},
     "outputs": [
      {
       "output_type": "stream",
       "stream": "stdout",
       "text": [
        "[[3 4 5]\n",
        " [6 7 8]\n",
        " [9 5 1]]\n",
        "[6 7 8]\n",
        "5\n",
        "5\n"
       ]
      },
      {
       "metadata": {},
       "output_type": "pyout",
       "png": "[encoded data removed]",
       "prompt_number": 9,
       "text": [
        "<IPython.core.display.Image at 0x4e41290>"
       ]
      }
     ],
     "prompt_number": 9
    },
    {
     "cell_type": "code",
     "collapsed": false,
     "input": [
      "cd C:\\Users\\tk\\Desktop\\pics # changing my directory"
     ],
     "language": "python",
     "metadata": {},
     "outputs": [
      {
       "output_type": "stream",
       "stream": "stdout",
       "text": [
        "C:\\Users\\tk\\Desktop\\pics\n"
       ]
      }
     ],
     "prompt_number": 8
    },
    {
     "cell_type": "code",
     "collapsed": false,
     "input": [
      "# 3d arrays -> this is a 2x2x3 array\n",
      "three_d_arr = np.array([[[1, 2, 3], [4, 5, 6]], [[7, 8, 9], [10, 11, 12]]])\n",
      "print three_d_arr\n",
      "print \"returns the second list inside first list {}\".format(three_d_arr[0,1])\n"
     ],
     "language": "python",
     "metadata": {},
     "outputs": [
      {
       "output_type": "stream",
       "stream": "stdout",
       "text": [
        "[[[ 1  2  3]\n",
        "  [ 4  5  6]]\n",
        "\n",
        " [[ 7  8  9]\n",
        "  [10 11 12]]]\n",
        "returns the second list inside first list [4 5 6]\n"
       ]
      }
     ],
     "prompt_number": 37
    },
    {
     "cell_type": "code",
     "collapsed": false,
     "input": [
      "three_d_arr = np.array([[[1, 2, 3], [4, 5, 6]], [[7, 8, 9], [10, 11, 12]]])\n",
      "print three_d_arr[0]\n",
      "#if you omit later indices, the returned object will be a lowerdimensional\n",
      "# ndarray consisting of all the data along the higher dimensions"
     ],
     "language": "python",
     "metadata": {},
     "outputs": [
      {
       "output_type": "stream",
       "stream": "stdout",
       "text": [
        "[[1 2 3]\n",
        " [4 5 6]]\n"
       ]
      }
     ],
     "prompt_number": 39
    },
    {
     "cell_type": "markdown",
     "metadata": {},
     "source": [
      "I have used [format](https://docs.python.org/2/tutorial/inputoutput.html) function in the below cell."
     ]
    },
    {
     "cell_type": "code",
     "collapsed": false,
     "input": [
      "copied_values = three_d_arr[0].copy() # copy arr[0] value to copied_values\n",
      "three_d_arr[0]= 99  # change all values of arr[0] to 99 \n",
      "print \"New value of three_d_arr: {}\".format(three_d_arr)  # check the new value of three_d_arr \n",
      "three_d_arr[0] = copied_values # assign copied values back to three_d_arr[0]\n",
      "print\" three_d_arr again: {}\".format(three_d_arr)"
     ],
     "language": "python",
     "metadata": {},
     "outputs": [
      {
       "output_type": "stream",
       "stream": "stdout",
       "text": [
        "New value of three_d_arr: [[[99 99 99]\n",
        "  [99 99 99]]\n",
        "\n",
        " [[ 7  8  9]\n",
        "  [10 11 12]]]\n",
        " three_d_arr again: [[[99 99 99]\n",
        "  [99 99 99]]\n",
        "\n",
        " [[ 7  8  9]\n",
        "  [10 11 12]]]\n"
       ]
      }
     ],
     "prompt_number": 62
    },
    {
     "cell_type": "code",
     "collapsed": false,
     "input": [
      "matrix_arr =np.array([[3,4,5],[6,7,8],[9,5,1]])\n",
      "print \"The original matrix {}:\".format(matrix_arr)\n",
      "print \"slices the first two rows:{}\".format(matrix_arr[:2]) # similar to list slicing. returns first two rows of the array\n",
      "print \"Slices the first two rows and two columns:{}\".format(matrix_arr[:2, 1:])\n",
      "print \"returns 6 and 7: {}\".format(matrix_arr[1,:2])\n",
      "print \"Returns first column: {}\".format(matrix_arr[:,:1]) #Note that a colon by itself means to take the entire axis"
     ],
     "language": "python",
     "metadata": {},
     "outputs": [
      {
       "output_type": "stream",
       "stream": "stdout",
       "text": [
        "The original matrix [[3 4 5]\n",
        " [6 7 8]\n",
        " [9 5 1]]:\n",
        "slices the first two rows:[[3 4 5]\n",
        " [6 7 8]]\n",
        "Slices the first two rows and two columns:[[4 5]\n",
        " [7 8]]\n",
        "returns 6 and 7: [6 7]\n",
        "Returns first column: [[3]\n",
        " [6]\n",
        " [9]]\n"
       ]
      }
     ],
     "prompt_number": 76
    },
    {
     "cell_type": "code",
     "collapsed": false,
     "input": [
      "from IPython.display import Image  # importing a image from my computer.\n",
      "j = Image(filename='Expre.png')\n",
      "j # diagrammatic explanation of matrix array slicing works."
     ],
     "language": "python",
     "metadata": {},
     "outputs": [
      {
       "metadata": {},
       "output_type": "pyout",
       "png": "[encoded data removed]",
       "prompt_number": 80,
       "text": [
        "<IPython.core.display.Image at 0x3ab2ba8>"
       ]
      }
     ],
     "prompt_number": 80
    },
    {
     "cell_type": "code",
     "collapsed": false,
     "input": [
      "#Import random module from Numpy \n",
      "personals = np.array(['Manu', 'Jeevan', 'Prakash', 'Manu', 'Prakash', 'Jeevan', 'Prakash'])\n",
      "print personals == 'Manu' #checks for the string 'Manu' in personals. If present it returns true; else false#"
     ],
     "language": "python",
     "metadata": {},
     "outputs": [
      {
       "output_type": "stream",
       "stream": "stdout",
       "text": [
        "[ True False False  True False False False]\n"
       ]
      }
     ],
     "prompt_number": 4
    },
    {
     "cell_type": "code",
     "collapsed": false,
     "input": [
      "from numpy import random \n",
      "random_no = random.randn(7,4)\n",
      "print random_no\n",
      "random_no[personals =='Manu'] #The function returns the rows for which the value of manu is true\n",
      "# Check the image displayed in the cell below. "
     ],
     "language": "python",
     "metadata": {},
     "outputs": [
      {
       "output_type": "stream",
       "stream": "stdout",
       "text": [
        "[[-0.129557    0.3684001  -0.15747451 -0.1196816 ]\n",
        " [-0.35946571 -1.23477985  1.08186057 -0.61596683]\n",
        " [ 1.67096505  1.11183755 -0.39640455  0.22848279]\n",
        " [-0.27989438 -1.51275966 -0.48825407  1.32425359]\n",
        " [-0.04493194 -1.10371501 -0.52742166 -1.06265549]\n",
        " [ 1.16938298 -0.60478133  1.40615125 -1.35350336]\n",
        " [ 0.86325448  1.97577081  0.05339779  0.71515521]]\n"
       ]
      },
      {
       "metadata": {},
       "output_type": "pyout",
       "prompt_number": 5,
       "text": [
        "array([[-0.129557  ,  0.3684001 , -0.15747451, -0.1196816 ],\n",
        "       [-0.27989438, -1.51275966, -0.48825407,  1.32425359]])"
       ]
      }
     ],
     "prompt_number": 5
    },
    {
     "cell_type": "code",
     "collapsed": false,
     "input": [
      "cd C:\\Users\\Manu\\Desktop \n"
     ],
     "language": "python",
     "metadata": {},
     "outputs": [
      {
       "output_type": "stream",
       "stream": "stdout",
       "text": [
        "C:\\Users\\Manu\\Desktop\n"
       ]
      }
     ],
     "prompt_number": 10
    },
    {
     "cell_type": "code",
     "collapsed": false,
     "input": [
      "from IPython.display import Image\n",
      "k = Image(filename='Matrix.png')\n",
      "k"
     ],
     "language": "python",
     "metadata": {},
     "outputs": [
      {
       "metadata": {},
       "output_type": "pyout",
       "png": "[encoded data removed]",
       "prompt_number": 11,
       "text": [
        "<IPython.core.display.Image at 0x3a034e0>"
       ]
      }
     ],
     "prompt_number": 11
    },
    {
     "cell_type": "code",
     "collapsed": false,
     "input": [
      "random_no[personals == 'Manu', 2:] #First two columns and first two rows."
     ],
     "language": "python",
     "metadata": {},
     "outputs": [
      {
       "metadata": {},
       "output_type": "pyout",
       "prompt_number": 12,
       "text": [
        "array([[-0.15747451, -0.1196816 ],\n",
        "       [-0.48825407,  1.32425359]])"
       ]
      }
     ],
     "prompt_number": 12
    },
    {
     "cell_type": "code",
     "collapsed": false,
     "input": [
      "# To select everything except 'Manu', you can != or negate the condition using -:\n",
      "print personals != 'Manu'\n",
      "random_no[-(personals == 'Manu')] #get everything except 1st and 4th rows"
     ],
     "language": "python",
     "metadata": {},
     "outputs": [
      {
       "output_type": "stream",
       "stream": "stdout",
       "text": [
        "[False  True  True False  True  True  True]\n"
       ]
      },
      {
       "metadata": {},
       "output_type": "pyout",
       "prompt_number": 13,
       "text": [
        "array([[-0.35946571, -1.23477985,  1.08186057, -0.61596683],\n",
        "       [ 1.67096505,  1.11183755, -0.39640455,  0.22848279],\n",
        "       [-0.04493194, -1.10371501, -0.52742166, -1.06265549],\n",
        "       [ 1.16938298, -0.60478133,  1.40615125, -1.35350336],\n",
        "       [ 0.86325448,  1.97577081,  0.05339779,  0.71515521]])"
       ]
      }
     ],
     "prompt_number": 13
    },
    {
     "cell_type": "code",
     "collapsed": false,
     "input": [
      "# you can use boolean operator &(and), |(or)\n",
      "new_variable = (personals == 'Manu') | (personals == 'Jeevan')\n",
      "print new_variable\n",
      "random_no[new_variable] "
     ],
     "language": "python",
     "metadata": {},
     "outputs": [
      {
       "output_type": "stream",
       "stream": "stdout",
       "text": [
        "[ True  True False  True False  True False]\n"
       ]
      },
      {
       "metadata": {},
       "output_type": "pyout",
       "prompt_number": 18,
       "text": [
        "array([[-0.129557  ,  0.3684001 , -0.15747451, -0.1196816 ],\n",
        "       [-0.35946571, -1.23477985,  1.08186057, -0.61596683],\n",
        "       [-0.27989438, -1.51275966, -0.48825407,  1.32425359],\n",
        "       [ 1.16938298, -0.60478133,  1.40615125, -1.35350336]])"
       ]
      }
     ],
     "prompt_number": 18
    },
    {
     "cell_type": "code",
     "collapsed": false,
     "input": [
      "random_no[random_no < 0] =0 \n",
      "random_no # This will set all negative values to zero"
     ],
     "language": "python",
     "metadata": {},
     "outputs": [
      {
       "metadata": {},
       "output_type": "pyout",
       "prompt_number": 22,
       "text": [
        "array([[ 0.        ,  0.3684001 ,  0.        ,  0.        ],\n",
        "       [ 0.        ,  0.        ,  1.08186057,  0.        ],\n",
        "       [ 1.67096505,  1.11183755,  0.        ,  0.22848279],\n",
        "       [ 0.        ,  0.        ,  0.        ,  1.32425359],\n",
        "       [ 0.        ,  0.        ,  0.        ,  0.        ],\n",
        "       [ 1.16938298,  0.        ,  1.40615125,  0.        ],\n",
        "       [ 0.86325448,  1.97577081,  0.05339779,  0.71515521]])"
       ]
      }
     ],
     "prompt_number": 22
    },
    {
     "cell_type": "code",
     "collapsed": false,
     "input": [
      "random_no[ personals != 'Manu'] = 9 # This will set all rows except 1 and 4 to 9. \n",
      "random_no"
     ],
     "language": "python",
     "metadata": {},
     "outputs": [
      {
       "metadata": {},
       "output_type": "pyout",
       "prompt_number": 24,
       "text": [
        "array([[ 0.        ,  0.3684001 ,  0.        ,  0.        ],\n",
        "       [ 9.        ,  9.        ,  9.        ,  9.        ],\n",
        "       [ 9.        ,  9.        ,  9.        ,  9.        ],\n",
        "       [ 0.        ,  0.        ,  0.        ,  1.32425359],\n",
        "       [ 9.        ,  9.        ,  9.        ,  9.        ],\n",
        "       [ 9.        ,  9.        ,  9.        ,  9.        ],\n",
        "       [ 9.        ,  9.        ,  9.        ,  9.        ]])"
       ]
      }
     ],
     "prompt_number": 24
    },
    {
     "cell_type": "markdown",
     "metadata": {},
     "source": [
      "#Fancy Indexing(Indexing using integer arrays)\n",
      "Fancy indexing copies data into a new array\n"
     ]
    },
    {
     "cell_type": "code",
     "collapsed": false,
     "input": [
      "from numpy import random\n",
      "algebra = random.randn(7,4) # empty will return a matrix of size 7,4\n",
      "for j in range(7):\n",
      "    algebra[j] = j\n",
      "algebra"
     ],
     "language": "python",
     "metadata": {},
     "outputs": [
      {
       "metadata": {},
       "output_type": "pyout",
       "prompt_number": 19,
       "text": [
        "array([[ 0.,  0.,  0.,  0.],\n",
        "       [ 1.,  1.,  1.,  1.],\n",
        "       [ 2.,  2.,  2.,  2.],\n",
        "       [ 3.,  3.,  3.,  3.],\n",
        "       [ 4.,  4.,  4.,  4.],\n",
        "       [ 5.,  5.,  5.,  5.],\n",
        "       [ 6.,  6.,  6.,  6.]])"
       ]
      }
     ],
     "prompt_number": 19
    },
    {
     "cell_type": "code",
     "collapsed": false,
     "input": [
      "# To select a subset of rows in particular order, you can simply pass a list.\n",
      "algebra[[4,5,1]] #returns a subset of rows"
     ],
     "language": "python",
     "metadata": {},
     "outputs": [
      {
       "metadata": {},
       "output_type": "pyout",
       "prompt_number": 23,
       "text": [
        "array([[ 4.,  4.,  4.,  4.],\n",
        "       [ 5.,  5.,  5.,  5.],\n",
        "       [ 1.,  1.,  1.,  1.]])"
       ]
      }
     ],
     "prompt_number": 23
    },
    {
     "cell_type": "code",
     "collapsed": false,
     "input": [
      "fancy = np.arange(36).reshape(9,4) #reshape is to reshape an array\n",
      "print fancy\n",
      "fancy[[1,4,3,2],[3,2,1,0]] #the position of the output array are[(1,3),(4,2),(3,1),(2,0)]"
     ],
     "language": "python",
     "metadata": {},
     "outputs": [
      {
       "output_type": "stream",
       "stream": "stdout",
       "text": [
        "[[ 0  1  2  3]\n",
        " [ 4  5  6  7]\n",
        " [ 8  9 10 11]\n",
        " [12 13 14 15]\n",
        " [16 17 18 19]\n",
        " [20 21 22 23]\n",
        " [24 25 26 27]\n",
        " [28 29 30 31]\n",
        " [32 33 34 35]]\n"
       ]
      },
      {
       "metadata": {},
       "output_type": "pyout",
       "prompt_number": 33,
       "text": [
        "array([ 7, 18, 13,  8])"
       ]
      }
     ],
     "prompt_number": 33
    },
    {
     "cell_type": "code",
     "collapsed": false,
     "input": [
      "fancy[[1, 4, 8, 2]][:, [0, 3, 1, 2]] # entire first row is selected, but the elements are interchanged, same goes for 4th, 8th and 2 nd row."
     ],
     "language": "python",
     "metadata": {},
     "outputs": [
      {
       "metadata": {},
       "output_type": "pyout",
       "prompt_number": 39,
       "text": [
        "array([[ 4,  7,  5,  6],\n",
        "       [16, 19, 17, 18],\n",
        "       [32, 35, 33, 34],\n",
        "       [ 8, 11,  9, 10]])"
       ]
      }
     ],
     "prompt_number": 39
    },
    {
     "cell_type": "code",
     "collapsed": false,
     "input": [
      "# another way to do the above operation is by using np.ix_ function.\n",
      "fancy[np.ix_([1,4,8,2],[0,3,1,2])]"
     ],
     "language": "python",
     "metadata": {},
     "outputs": [
      {
       "metadata": {},
       "output_type": "pyout",
       "prompt_number": 42,
       "text": [
        "array([[ 4,  7,  5,  6],\n",
        "       [16, 19, 17, 18],\n",
        "       [32, 35, 33, 34],\n",
        "       [ 8, 11,  9, 10]])"
       ]
      }
     ],
     "prompt_number": 42
    },
    {
     "cell_type": "markdown",
     "metadata": {},
     "source": [
      "#Transposing Arrays"
     ]
    },
    {
     "cell_type": "code",
     "collapsed": false,
     "input": [
      "transpose= np.arange(12).reshape(3,4) \n",
      "transpose.T # the shape has changed to 4,3"
     ],
     "language": "python",
     "metadata": {},
     "outputs": [
      {
       "metadata": {},
       "output_type": "pyout",
       "prompt_number": 47,
       "text": [
        "array([[ 0,  4,  8],\n",
        "       [ 1,  5,  9],\n",
        "       [ 2,  6, 10],\n",
        "       [ 3,  7, 11]])"
       ]
      }
     ],
     "prompt_number": 47
    },
    {
     "cell_type": "code",
     "collapsed": false,
     "input": [
      "#you can use np.dot function to perform matrix computations. You can calculate X transpose X as follows:\n",
      "np.dot(transpose.T, transpose)"
     ],
     "language": "python",
     "metadata": {},
     "outputs": [
      {
       "metadata": {},
       "output_type": "pyout",
       "prompt_number": 48,
       "text": [
        "array([[ 80,  92, 104, 116],\n",
        "       [ 92, 107, 122, 137],\n",
        "       [104, 122, 140, 158],\n",
        "       [116, 137, 158, 179]])"
       ]
      }
     ],
     "prompt_number": 48
    },
    {
     "cell_type": "markdown",
     "metadata": {},
     "source": [
      "#Universal functions\n",
      "They perform element wise operations on data in arrays."
     ]
    },
    {
     "cell_type": "code",
     "collapsed": false,
     "input": [
      "funky =np.arange(8)\n",
      "print np.sqrt(funky)\n",
      "print np.exp(funky) #exponent of the array\n",
      "# these are called as unary functions"
     ],
     "language": "python",
     "metadata": {},
     "outputs": [
      {
       "output_type": "stream",
       "stream": "stdout",
       "text": [
        "[ 0.          1.          1.41421356  1.73205081  2.          2.23606798\n",
        "  2.44948974  2.64575131]\n",
        "[  1.00000000e+00   2.71828183e+00   7.38905610e+00   2.00855369e+01\n",
        "   5.45981500e+01   1.48413159e+02   4.03428793e+02   1.09663316e+03]\n"
       ]
      }
     ],
     "prompt_number": 53
    },
    {
     "cell_type": "code",
     "collapsed": false,
     "input": [
      "# Binary functions take two value, Others such as maximum, add\n",
      "x = random.randn(10)\n",
      "y = random.randn(10)\n",
      "print x\n",
      "print y\n",
      "print np.maximum(x,y)# element wise operation\n",
      "print np.modf(x)# function modf returns the fractional and integral parts of a floating point arrays"
     ],
     "language": "python",
     "metadata": {},
     "outputs": [
      {
       "output_type": "stream",
       "stream": "stdout",
       "text": [
        "[-0.47538326 -0.32308133  1.45505923 -0.53196376 -1.34427866 -2.14409558\n",
        " -0.96296558  0.14068437 -0.29208196 -1.17537313]\n",
        "[-1.68868842 -0.53788536 -1.01887225 -0.02972594 -1.04607062 -2.08636169\n",
        "  0.34398903 -0.64183089  1.55401001  0.73270627]\n",
        "[-0.47538326 -0.32308133  1.45505923 -0.02972594 -1.04607062 -2.08636169\n",
        "  0.34398903  0.14068437  1.55401001  0.73270627]\n",
        "(array([-0.47538326, -0.32308133,  0.45505923, -0.53196376, -0.34427866,\n",
        "       -0.14409558, -0.96296558,  0.14068437, -0.29208196, -0.17537313]), array([-0., -0.,  1., -0., -1., -2., -0.,  0., -0., -1.]))\n"
       ]
      }
     ],
     "prompt_number": 62
    },
    {
     "cell_type": "code",
     "collapsed": false,
     "input": [
      "# List of unary functions avaliable\n",
      "from IPython.display import Image  \n",
      "l = Image(filename='unary functions.png')\n",
      "l"
     ],
     "language": "python",
     "metadata": {},
     "outputs": [
      {
       "metadata": {},
       "output_type": "pyout",
       "png": "[encoded data removed]",
       "prompt_number": 67,
       "text": [
        "<IPython.core.display.Image at 0x4eaf690>"
       ]
      }
     ],
     "prompt_number": 67
    },
    {
     "cell_type": "code",
     "collapsed": false,
     "input": [
      "#List of binary functions available\n",
      "from IPython.display import Image  \n",
      "l = Image(filename='binary functions.png')\n",
      "l\n",
      "#logical operators , and  greater, greater_equal,less, less_equal, equal, not_equal operations can also be performed"
     ],
     "language": "python",
     "metadata": {},
     "outputs": [
      {
       "metadata": {},
       "output_type": "pyout",
       "png": "[encoded data removed]",
       "prompt_number": 69,
       "text": [
        "<IPython.core.display.Image at 0x4eafb50>"
       ]
      }
     ],
     "prompt_number": 69
    },
    {
     "cell_type": "markdown",
     "metadata": {},
     "source": [
      "#Data processing using Arrays"
     ]
    },
    {
     "cell_type": "code",
     "collapsed": false,
     "input": [
      "mtrices =np.arange(-5,5,1)\n",
      "x, y = np.meshgrid(mtrices, mtrices) #mesh grid function takes two 1 d arrays and produces two 2d arrays\n",
      "print \"Matrix values of y: {}\".format(y)\n",
      "print \"Matrix values of x: {}\".format(x)"
     ],
     "language": "python",
     "metadata": {},
     "outputs": [
      {
       "output_type": "stream",
       "stream": "stdout",
       "text": [
        "Matrix values of y: [[-5 -5 -5 -5 -5 -5 -5 -5 -5 -5]\n",
        " [-4 -4 -4 -4 -4 -4 -4 -4 -4 -4]\n",
        " [-3 -3 -3 -3 -3 -3 -3 -3 -3 -3]\n",
        " [-2 -2 -2 -2 -2 -2 -2 -2 -2 -2]\n",
        " [-1 -1 -1 -1 -1 -1 -1 -1 -1 -1]\n",
        " [ 0  0  0  0  0  0  0  0  0  0]\n",
        " [ 1  1  1  1  1  1  1  1  1  1]\n",
        " [ 2  2  2  2  2  2  2  2  2  2]\n",
        " [ 3  3  3  3  3  3  3  3  3  3]\n",
        " [ 4  4  4  4  4  4  4  4  4  4]]\n",
        "Matrix values of x: [[-5 -4 -3 -2 -1  0  1  2  3  4]\n",
        " [-5 -4 -3 -2 -1  0  1  2  3  4]\n",
        " [-5 -4 -3 -2 -1  0  1  2  3  4]\n",
        " [-5 -4 -3 -2 -1  0  1  2  3  4]\n",
        " [-5 -4 -3 -2 -1  0  1  2  3  4]\n",
        " [-5 -4 -3 -2 -1  0  1  2  3  4]\n",
        " [-5 -4 -3 -2 -1  0  1  2  3  4]\n",
        " [-5 -4 -3 -2 -1  0  1  2  3  4]\n",
        " [-5 -4 -3 -2 -1  0  1  2  3  4]\n",
        " [-5 -4 -3 -2 -1  0  1  2  3  4]]\n"
       ]
      }
     ],
     "prompt_number": 86
    },
    {
     "cell_type": "markdown",
     "metadata": {},
     "source": [
      "[zip](http://stackoverflow.com/questions/13704860/zip-lists-in-python) function is clearly explained here."
     ]
    },
    {
     "cell_type": "code",
     "collapsed": false,
     "input": [
      "x1= np.array([1,2,3,4,5])\n",
      "y1 = np.array([6,7,8,9,10])\n",
      "cond =[True, False, True, True, False]\n",
      "#If you want to take a value from x1 whenever the corresponding value in cond is true, otherwise take value from y.\n",
      "z1 = [(x,y,z) for x,y,z in zip(x1, y1, cond)] # I have used zip function To illustrate the concept\n",
      "print z1\n",
      "np.where(cond, x1, y1) "
     ],
     "language": "python",
     "metadata": {},
     "outputs": [
      {
       "output_type": "stream",
       "stream": "stdout",
       "text": [
        "[(1, 6, True), (2, 7, False), (3, 8, True), (4, 9, True), (5, 10, False)]\n"
       ]
      },
      {
       "metadata": {},
       "output_type": "pyout",
       "prompt_number": 124,
       "text": [
        "array([ 1,  7,  3,  4, 10])"
       ]
      }
     ],
     "prompt_number": 124
    },
    {
     "cell_type": "code",
     "collapsed": false,
     "input": [
      "ra = np.random.randn(5,5)\n",
      "# If you want to replace negative values in ra with -1 and positive values with 1. You can do it using where function\n",
      "print ra\n",
      "print np.where(ra>0, 1, -1) # If values in ra are greater than zero, replace it with 1, else replace it with -1.\n",
      "# to set only positive values\n",
      "np.where(ra >0, 1, ra) # same implies to negative values"
     ],
     "language": "python",
     "metadata": {},
     "outputs": [
      {
       "output_type": "stream",
       "stream": "stdout",
       "text": [
        "[[-0.91593384  0.38253326 -0.13340929 -0.12353528 -0.90849552]\n",
        " [ 2.23109011 -0.7980066   0.13600282 -0.2447923   1.32865533]\n",
        " [-0.65568719 -1.48154609  0.8033841  -0.84157511 -0.19588005]\n",
        " [ 1.42527047  0.63082249 -0.80092209 -0.69935209  0.20470869]\n",
        " [ 0.18245815 -0.99953295  0.05586992  0.38031972  0.60522581]]\n",
        "[[-1  1 -1 -1 -1]\n",
        " [ 1 -1  1 -1  1]\n",
        " [-1 -1  1 -1 -1]\n",
        " [ 1  1 -1 -1  1]\n",
        " [ 1 -1  1  1  1]]\n"
       ]
      },
      {
       "metadata": {},
       "output_type": "pyout",
       "prompt_number": 132,
       "text": [
        "array([[-0.91593384,  1.        , -0.13340929, -0.12353528, -0.90849552],\n",
        "       [ 1.        , -0.7980066 ,  1.        , -0.2447923 ,  1.        ],\n",
        "       [-0.65568719, -1.48154609,  1.        , -0.84157511, -0.19588005],\n",
        "       [ 1.        ,  1.        , -0.80092209, -0.69935209,  1.        ],\n",
        "       [ 1.        , -0.99953295,  1.        ,  1.        ,  1.        ]])"
       ]
      }
     ],
     "prompt_number": 132
    },
    {
     "cell_type": "markdown",
     "metadata": {},
     "source": [
      "# Statistical methods"
     ]
    },
    {
     "cell_type": "code",
     "collapsed": false,
     "input": [
      "thie = np.random.randn(5,5)\n",
      "print thie.mean() # calculates the mean of thie\n",
      "print np.mean(thie) # alternate method to calculate mean\n",
      "print thie.sum()"
     ],
     "language": "python",
     "metadata": {},
     "outputs": [
      {
       "output_type": "stream",
       "stream": "stdout",
       "text": [
        "0.286291297223\n",
        "0.286291297223\n",
        "7.15728243058\n"
       ]
      }
     ],
     "prompt_number": 136
    },
    {
     "cell_type": "code",
     "collapsed": false,
     "input": [
      "jp =np.arange(12).reshape(4,3)\n",
      "print\"The arrays are: {}\".format(jp)\n",
      "print \"The sum of rows are :{}\".format(np.sum(jp, axis =0)) #axis =0, gives you sum of the columns. axis =1 , gives sum of rows.\n",
      "# remember this zero is for columns and one is for rows."
     ],
     "language": "python",
     "metadata": {},
     "outputs": [
      {
       "output_type": "stream",
       "stream": "stdout",
       "text": [
        "The arrays are: [[ 0  1  2]\n",
        " [ 3  4  5]\n",
        " [ 6  7  8]\n",
        " [ 9 10 11]]\n",
        "The sum of rows are :[18 22 26]\n"
       ]
      }
     ],
     "prompt_number": 36
    },
    {
     "cell_type": "code",
     "collapsed": false,
     "input": [
      "print jp.sum(1)#returns sum of rows"
     ],
     "language": "python",
     "metadata": {},
     "outputs": [
      {
       "output_type": "stream",
       "stream": "stdout",
       "text": [
        "[ 3 12 21 30]\n"
       ]
      }
     ],
     "prompt_number": 35
    },
    {
     "cell_type": "code",
     "collapsed": false,
     "input": [
      "jp.cumsum(0)  #cumulative sum of columns, try the same for jp.cumprod(0)"
     ],
     "language": "python",
     "metadata": {},
     "outputs": [
      {
       "metadata": {},
       "output_type": "pyout",
       "prompt_number": 37,
       "text": [
        "array([[ 0,  1,  2],\n",
        "       [ 3,  5,  7],\n",
        "       [ 9, 12, 15],\n",
        "       [18, 22, 26]])"
       ]
      }
     ],
     "prompt_number": 37
    },
    {
     "cell_type": "code",
     "collapsed": false,
     "input": [
      "jp.cumsum(1)#cumulative sum of rows"
     ],
     "language": "python",
     "metadata": {},
     "outputs": [
      {
       "metadata": {},
       "output_type": "pyout",
       "prompt_number": 38,
       "text": [
        "array([[ 0,  1,  3],\n",
        "       [ 3,  7, 12],\n",
        "       [ 6, 13, 21],\n",
        "       [ 9, 19, 30]])"
       ]
      }
     ],
     "prompt_number": 38
    },
    {
     "cell_type": "code",
     "collapsed": false,
     "input": [
      "xp =np.random.randn(100)\n",
      "print(xp > 0).sum() # sum of all positive values\n",
      "print (xp < 0).sum()\n",
      "tandf =np.array([True,False,True,False,True,False])\n",
      "print tandf.any()#checks if any of the values are true\n",
      "print tandf.all() #returns false even if a single value is false\n",
      "#These methods also work with non-boolean arrays, where non-zero elements evaluate to True."
     ],
     "language": "python",
     "metadata": {},
     "outputs": [
      {
       "output_type": "stream",
       "stream": "stdout",
       "text": [
        "45\n",
        "55\n",
        "True\n",
        "False\n"
       ]
      }
     ],
     "prompt_number": 47
    },
    {
     "cell_type": "markdown",
     "metadata": {},
     "source": [
      "<b>Other array functions are:<br> </b>\n",
      "std, var -> standard deviation and variance <br>\n",
      "min, max -> Minimum and Maximum <br>\n",
      "argmin, argmax -> Indices of minimum and maximum elements"
     ]
    },
    {
     "cell_type": "markdown",
     "metadata": {},
     "source": [
      "#Sorting"
     ]
    },
    {
     "cell_type": "code",
     "collapsed": false,
     "input": [
      "lp = np.random.randn(8)\n",
      "print lp\n",
      "lp.sort()\n",
      "lp"
     ],
     "language": "python",
     "metadata": {},
     "outputs": [
      {
       "output_type": "stream",
       "stream": "stdout",
       "text": [
        "[-0.38465299 -0.84381465 -1.78393531 -0.80242681 -2.54136215 -0.47354742\n",
        " -1.17517075  0.23759082]\n"
       ]
      },
      {
       "metadata": {},
       "output_type": "pyout",
       "prompt_number": 55,
       "text": [
        "array([-2.54136215, -1.78393531, -1.17517075, -0.84381465, -0.80242681,\n",
        "       -0.47354742, -0.38465299,  0.23759082])"
       ]
      }
     ],
     "prompt_number": 55
    },
    {
     "cell_type": "code",
     "collapsed": false,
     "input": [
      "tp = np.random.randn(4,4)\n",
      "tp"
     ],
     "language": "python",
     "metadata": {},
     "outputs": [
      {
       "metadata": {},
       "output_type": "pyout",
       "prompt_number": 57,
       "text": [
        "array([[ 0.4968525 , -0.65497365, -0.43687651,  0.51706412],\n",
        "       [-1.39148137, -0.0166924 , -0.82572908,  2.20839298],\n",
        "       [-0.5400157 , -0.8311936 , -1.92611011,  0.04556166],\n",
        "       [ 0.41679611, -1.1659837 , -1.7181857 ,  0.15529182]])"
       ]
      }
     ],
     "prompt_number": 57
    },
    {
     "cell_type": "code",
     "collapsed": false,
     "input": [
      "tp.sort(1) #check the rows are sorted\n",
      "tp"
     ],
     "language": "python",
     "metadata": {},
     "outputs": [
      {
       "metadata": {},
       "output_type": "pyout",
       "prompt_number": 60,
       "text": [
        "array([[-0.65497365, -0.43687651,  0.4968525 ,  0.51706412],\n",
        "       [-1.39148137, -0.82572908, -0.0166924 ,  2.20839298],\n",
        "       [-1.92611011, -0.8311936 , -0.5400157 ,  0.04556166],\n",
        "       [-1.7181857 , -1.1659837 ,  0.15529182,  0.41679611]])"
       ]
      }
     ],
     "prompt_number": 60
    },
    {
     "cell_type": "code",
     "collapsed": false,
     "input": [
      "personals = np.array(['Manu', 'Jeevan', 'Prakash', 'Manu', 'Prakash', 'Jeevan', 'Prakash'])\n",
      "np.unique(personals)# returns the unique elements in the array"
     ],
     "language": "python",
     "metadata": {},
     "outputs": [
      {
       "metadata": {},
       "output_type": "pyout",
       "prompt_number": 61,
       "text": [
        "array(['Jeevan', 'Manu', 'Prakash'], \n",
        "      dtype='|S7')"
       ]
      }
     ],
     "prompt_number": 61
    },
    {
     "cell_type": "code",
     "collapsed": false,
     "input": [
      "set(personals) # set is an alternative to unique function"
     ],
     "language": "python",
     "metadata": {},
     "outputs": [
      {
       "metadata": {},
       "output_type": "pyout",
       "prompt_number": 65,
       "text": [
        "{'Jeevan', 'Manu', 'Prakash'}"
       ]
      }
     ],
     "prompt_number": 65
    },
    {
     "cell_type": "code",
     "collapsed": false,
     "input": [
      "np.in1d(personals, ['Manu']) #in1d function checks for the value 'Manu' and returns True, other wise returns False"
     ],
     "language": "python",
     "metadata": {},
     "outputs": [
      {
       "metadata": {},
       "output_type": "pyout",
       "prompt_number": 67,
       "text": [
        "array([ True, False, False,  True, False, False, False], dtype=bool)"
       ]
      }
     ],
     "prompt_number": 67
    },
    {
     "cell_type": "markdown",
     "metadata": {},
     "source": [
      "<b> Other Functions are :<br> </b>\n",
      "intersect1d(x, y)-> Compute the sorted, common elements in x and y <br>\n",
      "union1d(x,y) -> compute the sorted union of elements <br>\n",
      "setdiff1d(x,y) -> set difference, elements in x that are not in y <br>\n",
      "setxor1d(x, y) -> Set symmetric differences; elements that are in either of the arrays, but not both <br>"
     ]
    },
    {
     "cell_type": "markdown",
     "metadata": {},
     "source": [
      "#Linear Algebra"
     ]
    },
    {
     "cell_type": "code",
     "collapsed": false,
     "input": [
      "cp = np.array([[1,2,3],[4,5,6]])\n",
      "dp = np.array([[7,8],[9,10],[11,12]])\n",
      "print \"CP array :{}\".format(cp)\n",
      "print \"DP array :{}\".format(dp)"
     ],
     "language": "python",
     "metadata": {},
     "outputs": [
      {
       "output_type": "stream",
       "stream": "stdout",
       "text": [
        "CP array :[[1 2 3]\n",
        " [4 5 6]]\n",
        "DP array :[[ 7  8]\n",
        " [ 9 10]\n",
        " [11 12]]\n"
       ]
      }
     ],
     "prompt_number": 75
    },
    {
     "cell_type": "code",
     "collapsed": false,
     "input": [
      "# element wise multiplication\n",
      "cp.dot(dp) # this is equivalent to np.dot(x,y)"
     ],
     "language": "python",
     "metadata": {},
     "outputs": [
      {
       "metadata": {},
       "output_type": "pyout",
       "prompt_number": 73,
       "text": [
        "array([[ 58,  64],\n",
        "       [139, 154]])"
       ]
      }
     ],
     "prompt_number": 73
    },
    {
     "cell_type": "code",
     "collapsed": false,
     "input": [
      "np.dot(cp, np.ones(3)) "
     ],
     "language": "python",
     "metadata": {},
     "outputs": [
      {
       "metadata": {},
       "output_type": "pyout",
       "prompt_number": 77,
       "text": [
        "array([  6.,  15.])"
       ]
      }
     ],
     "prompt_number": 77
    },
    {
     "cell_type": "code",
     "collapsed": false,
     "input": [
      "# numpy.linalg has standard matrix operations like determinants and inverse.\n",
      "from numpy.linalg import inv, qr\n",
      "cp = np.array([[1,2,3],[4,5,6]])\n",
      "new_mat = cp.T.dot(cp) # multiply cp inverse and cp, this is element wise multiplication\n",
      "print new_mat"
     ],
     "language": "python",
     "metadata": {},
     "outputs": [
      {
       "output_type": "stream",
       "stream": "stdout",
       "text": [
        "[[17 22 27]\n",
        " [22 29 36]\n",
        " [27 36 45]]\n"
       ]
      }
     ],
     "prompt_number": 84
    },
    {
     "cell_type": "code",
     "collapsed": false,
     "input": [
      "sp = np.random.randn(5,5)\n",
      "print inv(sp)\n",
      "rt = inv(sp)"
     ],
     "language": "python",
     "metadata": {},
     "outputs": [
      {
       "output_type": "stream",
       "stream": "stdout",
       "text": [
        "[[  8.42073934  -3.99404791  -1.02750024  -9.15141449 -11.83177632]\n",
        " [  0.99455489   0.12614541   0.97324631   0.13731371   1.83602625]\n",
        " [  7.22433965  -3.9236319   -1.72053933  -8.26352406 -11.80445805]\n",
        " [  4.35711911  -2.62701594  -0.75752399  -4.80133342  -6.89057351]\n",
        " [  4.97536913  -1.66709125   0.42132364  -4.00769704  -4.45711904]]\n"
       ]
      }
     ],
     "prompt_number": 90
    },
    {
     "cell_type": "code",
     "collapsed": false,
     "input": [
      "# to calculate the product of a matrix and its inverse\n",
      "sp.dot(rt)"
     ],
     "language": "python",
     "metadata": {},
     "outputs": [
      {
       "metadata": {},
       "output_type": "pyout",
       "prompt_number": 91,
       "text": [
        "array([[  1.00000000e+00,  -6.66133815e-16,  -3.88578059e-16,\n",
        "         -4.44089210e-16,  -5.77315973e-15],\n",
        "       [ -8.88178420e-16,   1.00000000e+00,   1.11022302e-16,\n",
        "          4.44089210e-16,   8.88178420e-16],\n",
        "       [ -2.66453526e-15,   2.22044605e-16,   1.00000000e+00,\n",
        "         -3.55271368e-15,   2.22044605e-15],\n",
        "       [  8.88178420e-16,   0.00000000e+00,  -1.11022302e-16,\n",
        "          1.00000000e+00,  -8.88178420e-16],\n",
        "       [  0.00000000e+00,  -6.66133815e-16,   1.66533454e-16,\n",
        "          8.88178420e-16,   1.00000000e+00]])"
       ]
      }
     ],
     "prompt_number": 91
    },
    {
     "cell_type": "code",
     "collapsed": false,
     "input": [
      "q,r = qr(sp)\n",
      "print q\n",
      "r"
     ],
     "language": "python",
     "metadata": {},
     "outputs": [
      {
       "output_type": "stream",
       "stream": "stdout",
       "text": [
        "[[-0.50510571  0.0181599   0.07531349  0.59150958 -0.62368481]\n",
        " [ 0.13921471 -0.40513763  0.84451738  0.24413444  0.20897736]\n",
        " [ 0.53635022 -0.51829708 -0.46188958  0.47703793 -0.05281481]\n",
        " [-0.66103319 -0.49468555 -0.25644088  0.01307464  0.50238278]\n",
        " [ 0.02917284  0.56761612 -0.04488163  0.6023111   0.55871984]]\n"
       ]
      },
      {
       "metadata": {},
       "output_type": "pyout",
       "prompt_number": 95,
       "text": [
        "array([[ 2.90927288, -0.76452754, -3.08539037,  0.77536573, -1.07156322],\n",
        "       [-0.        ,  2.28961296,  1.31005059, -0.44393071, -1.96748764],\n",
        "       [-0.        ,  0.        ,  1.48340931, -2.65558951,  0.18679631],\n",
        "       [ 0.        ,  0.        ,  0.        , -0.37900614,  0.4507976 ],\n",
        "       [-0.        , -0.        , -0.        , -0.        , -0.12535448]])"
       ]
      }
     ],
     "prompt_number": 95
    },
    {
     "cell_type": "code",
     "collapsed": false,
     "input": [],
     "language": "python",
     "metadata": {},
     "outputs": []
    },
    {
     "cell_type": "markdown",
     "metadata": {},
     "source": [
      "<b>Other Matrix Functions</b> <br>\n",
      "<li>diag : Return the diagonal (or off-diagonal) elements of a square matrix as a 1D array, or convert a 1D array into a square<br>\n",
      "matrix with zeros on the off-diagonal\n",
      "<li> trace: Compute the sum of the diagonal elements\n",
      "<li> det: Compute the matrix determinant\n",
      "<li> eig: Compute the eigenvalues and eigenvectors of a square matrix\n",
      "<li> pinv: Compute the pseudo-inverse of a square matrix\n",
      "<li> svd: Compute the singular value decomposition (SVD)\n",
      "<li> solve: Solve the linear system Ax = b for x, where A is a square matrix\n",
      "<li> lstsq: Compute the least-squares solution to y = Xb"
     ]
    }
   ],
   "metadata": {}
  }
 ]
}