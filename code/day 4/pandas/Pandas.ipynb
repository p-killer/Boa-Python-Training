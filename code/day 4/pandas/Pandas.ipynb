{
 "metadata": {
  "name": "pandas.ipynb",
  "signature": "sha256:a0a225575bcd9081a8c5eb519fd740c0b6a46d6ab6b5a239e22401b0043d7b99"
 },
 "nbformat": 3,
 "nbformat_minor": 0,
 "worksheets": [
  {
   "cells": [
    {
     "cell_type": "markdown",
     "metadata": {},
     "source": [
      "#Pandas\n",
      "Pandas contains high level data structures and manipulation tools to make data analysis fast and easy in Python."
     ]
    },
    {
     "cell_type": "code",
     "collapsed": false,
     "input": [
      "import pandas as pd #I am importing pandas as pd\n",
      "from pandas import Series, DataFrame # Series and Data Frame are two data structures available in python"
     ],
     "language": "python",
     "metadata": {},
     "outputs": [],
     "prompt_number": 2
    },
    {
     "cell_type": "markdown",
     "metadata": {},
     "source": [
      "## Series\n",
      "Series is a one-dimensional array like object containing an array of data(any Numpy data type, and an associated array of data labels, called its index."
     ]
    },
    {
     "cell_type": "code",
     "collapsed": false,
     "input": [
      "mjp= Series([5,4,3,2,1])# a simple series\n",
      "print mjp        # A series is represented by index on the left and values on the right\n",
      "print mjp.values # similar to dictionary. \".values\" command returns values in a series "
     ],
     "language": "python",
     "metadata": {},
     "outputs": [
      {
       "output_type": "stream",
       "stream": "stdout",
       "text": [
        "0    5\n",
        "1    4\n",
        "2    3\n",
        "3    2\n",
        "4    1\n",
        "dtype: int64\n",
        "[5 4 3 2 1]\n"
       ]
      }
     ],
     "prompt_number": 13
    },
    {
     "cell_type": "code",
     "collapsed": false,
     "input": [
      "print mjp.index # returns the index values of the series"
     ],
     "language": "python",
     "metadata": {},
     "outputs": [
      {
       "output_type": "stream",
       "stream": "stdout",
       "text": [
        "Int64Index([0, 1, 2, 3, 4], dtype='int64')\n"
       ]
      }
     ],
     "prompt_number": 14
    },
    {
     "cell_type": "code",
     "collapsed": false,
     "input": [
      "jeeva = Series([5,4,3,2,1,-7,-29], index =['a','b','c','d','e','f','h']) # The index is specified\n",
      "print jeeva # try jeeva.index and jeeva.values\n",
      "print jeeva['a'] # selecting a particular value from a Series, by using index"
     ],
     "language": "python",
     "metadata": {},
     "outputs": [
      {
       "output_type": "stream",
       "stream": "stdout",
       "text": [
        "a     5\n",
        "b     4\n",
        "c     3\n",
        "d     2\n",
        "e     1\n",
        "f    -7\n",
        "h   -29\n",
        "dtype: int64\n",
        "5\n"
       ]
      }
     ],
     "prompt_number": 27
    },
    {
     "cell_type": "code",
     "collapsed": false,
     "input": [
      "jeeva['d'] = 9 # change the value of a particular element in series\n",
      "print jeeva\n",
      "jeeva[['a','b','c']] # select a group of values"
     ],
     "language": "python",
     "metadata": {},
     "outputs": [
      {
       "output_type": "stream",
       "stream": "stdout",
       "text": [
        "a     5\n",
        "b     4\n",
        "c     3\n",
        "d     9\n",
        "e     1\n",
        "f    -7\n",
        "h   -29\n",
        "dtype: int64\n"
       ]
      },
      {
       "metadata": {},
       "output_type": "pyout",
       "prompt_number": 28,
       "text": [
        "a    5\n",
        "b    4\n",
        "c    3\n",
        "dtype: int64"
       ]
      }
     ],
     "prompt_number": 28
    },
    {
     "cell_type": "code",
     "collapsed": false,
     "input": [
      "print jeeva[jeeva>0] # returns only the positive values\n",
      "print jeeva *2 # multiplies 2 to each element of a series"
     ],
     "language": "python",
     "metadata": {},
     "outputs": [
      {
       "output_type": "stream",
       "stream": "stdout",
       "text": [
        "a    5\n",
        "b    4\n",
        "c    3\n",
        "d    9\n",
        "e    1\n",
        "dtype: int64\n",
        "a    10\n",
        "b     8\n",
        "c     6\n",
        "d    18\n",
        "e     2\n",
        "f   -14\n",
        "h   -58\n",
        "dtype: int64\n"
       ]
      }
     ],
     "prompt_number": 31
    },
    {
     "cell_type": "code",
     "collapsed": false,
     "input": [
      "import numpy as np\n",
      "np.mean(jeeva) # you can apply numpy functions to a Series"
     ],
     "language": "python",
     "metadata": {},
     "outputs": [
      {
       "metadata": {},
       "output_type": "pyout",
       "prompt_number": 34,
       "text": [
        "-2.0"
       ]
      }
     ],
     "prompt_number": 34
    },
    {
     "cell_type": "code",
     "collapsed": false,
     "input": [
      "print 'b' in jeeva # checks whether the index is present in Series or not\n",
      "print 'z' in jeeva"
     ],
     "language": "python",
     "metadata": {},
     "outputs": [
      {
       "output_type": "stream",
       "stream": "stdout",
       "text": [
        "True\n",
        "False\n"
       ]
      }
     ],
     "prompt_number": 37
    },
    {
     "cell_type": "code",
     "collapsed": false,
     "input": [
      "player_salary ={'Rooney': 50000, 'Messi': 75000, 'Ronaldo': 85000, 'Fabregas':40000, 'Van persie': 67000} \n",
      "new_player = Series(player_salary)# converting a dictionary to a series\n",
      "print new_player # the series has keys of a dictionary"
     ],
     "language": "python",
     "metadata": {},
     "outputs": [
      {
       "output_type": "stream",
       "stream": "stdout",
       "text": [
        "Fabregas      40000\n",
        "Messi         75000\n",
        "Ronaldo       85000\n",
        "Rooney        50000\n",
        "Van persie    67000\n",
        "dtype: int64\n"
       ]
      }
     ],
     "prompt_number": 46
    },
    {
     "cell_type": "code",
     "collapsed": false,
     "input": [
      "players =['Klose', 'Messi', 'Ronaldo', 'Van persie', 'Ballack'] \n",
      "player_1 =Series(player_salary, index= players)\n",
      "print player_1 # I have changed the index of the Series. Since, no value was not found for Klose and Ballack, it appears as NAN"
     ],
     "language": "python",
     "metadata": {},
     "outputs": [
      {
       "output_type": "stream",
       "stream": "stdout",
       "text": [
        "Klose           NaN\n",
        "Messi         75000\n",
        "Ronaldo       85000\n",
        "Van persie    67000\n",
        "Ballack         NaN\n",
        "dtype: float64\n"
       ]
      }
     ],
     "prompt_number": 49
    },
    {
     "cell_type": "code",
     "collapsed": false,
     "input": [
      "pd.isnull(player_1)#checks for Null values in player_1, pd denotes a pandas dataframe"
     ],
     "language": "python",
     "metadata": {},
     "outputs": [
      {
       "metadata": {},
       "output_type": "pyout",
       "prompt_number": 53,
       "text": [
        "Klose          True\n",
        "Messi         False\n",
        "Ronaldo       False\n",
        "Van persie    False\n",
        "Ballack        True\n",
        "dtype: bool"
       ]
      }
     ],
     "prompt_number": 53
    },
    {
     "cell_type": "code",
     "collapsed": false,
     "input": [
      "pd.notnull(player_1)# Checks for null values that are not Null"
     ],
     "language": "python",
     "metadata": {},
     "outputs": [
      {
       "metadata": {},
       "output_type": "pyout",
       "prompt_number": 52,
       "text": [
        "Klose         False\n",
        "Messi          True\n",
        "Ronaldo        True\n",
        "Van persie     True\n",
        "Ballack       False\n",
        "dtype: bool"
       ]
      }
     ],
     "prompt_number": 52
    },
    {
     "cell_type": "code",
     "collapsed": false,
     "input": [
      "player_1.name ='Bundesliga players' # name for the Series\n",
      "player_1.index.name='Player names' #name of the index\n",
      "player_1"
     ],
     "language": "python",
     "metadata": {},
     "outputs": [
      {
       "metadata": {},
       "output_type": "pyout",
       "prompt_number": 64,
       "text": [
        "Player names\n",
        "Klose             NaN\n",
        "Messi           75000\n",
        "Ronaldo         85000\n",
        "Van persie      67000\n",
        "Ballack           NaN\n",
        "Name: Bundesliga players, dtype: float64"
       ]
      }
     ],
     "prompt_number": 64
    },
    {
     "cell_type": "code",
     "collapsed": false,
     "input": [
      "player_1.index =['Neymar', 'Hulk', 'Pirlo', 'Buffon', 'Anderson'] # is used to alter the index of Series\n",
      "player_1 "
     ],
     "language": "python",
     "metadata": {},
     "outputs": [
      {
       "metadata": {},
       "output_type": "pyout",
       "prompt_number": 67,
       "text": [
        "Neymar        NaN\n",
        "Hulk        75000\n",
        "Pirlo       85000\n",
        "Buffon      67000\n",
        "Anderson      NaN\n",
        "Name: Bundesliga players, dtype: float64"
       ]
      }
     ],
     "prompt_number": 67
    },
    {
     "cell_type": "markdown",
     "metadata": {},
     "source": [
      "#Data Frame\n",
      "Data frame is a spread sheet like structure, containing ordered collection of columns. Each column can have different value type.\n",
      "Data frame has both row index and column index."
     ]
    },
    {
     "cell_type": "code",
     "collapsed": false,
     "input": [
      "states ={'State' :['Gujarat', 'Tamil Nadu', ' Andhra', 'Karnataka', 'Kerala'],\n",
      "                  'Population': [36, 44, 67,89,34],\n",
      "                  'Language' :['Gujarati', 'Tamil', 'Telugu', 'Kannada', 'Malayalam']}\n",
      "india = DataFrame(states) # creating a data frame\n",
      "india"
     ],
     "language": "python",
     "metadata": {},
     "outputs": [
      {
       "html": [
        "<div style=\"max-height:1000px;max-width:1500px;overflow:auto;\">\n",
        "<table border=\"1\" class=\"dataframe\">\n",
        "  <thead>\n",
        "    <tr style=\"text-align: right;\">\n",
        "      <th></th>\n",
        "      <th>Language</th>\n",
        "      <th>Population</th>\n",
        "      <th>State</th>\n",
        "    </tr>\n",
        "  </thead>\n",
        "  <tbody>\n",
        "    <tr>\n",
        "      <th>0</th>\n",
        "      <td>  Gujarati</td>\n",
        "      <td> 36</td>\n",
        "      <td>    Gujarat</td>\n",
        "    </tr>\n",
        "    <tr>\n",
        "      <th>1</th>\n",
        "      <td>     Tamil</td>\n",
        "      <td> 44</td>\n",
        "      <td> Tamil Nadu</td>\n",
        "    </tr>\n",
        "    <tr>\n",
        "      <th>2</th>\n",
        "      <td>    Telugu</td>\n",
        "      <td> 67</td>\n",
        "      <td>     Andhra</td>\n",
        "    </tr>\n",
        "    <tr>\n",
        "      <th>3</th>\n",
        "      <td>   Kannada</td>\n",
        "      <td> 89</td>\n",
        "      <td>  Karnataka</td>\n",
        "    </tr>\n",
        "    <tr>\n",
        "      <th>4</th>\n",
        "      <td> Malayalam</td>\n",
        "      <td> 34</td>\n",
        "      <td>     Kerala</td>\n",
        "    </tr>\n",
        "  </tbody>\n",
        "</table>\n",
        "</div>"
       ],
       "metadata": {},
       "output_type": "pyout",
       "prompt_number": 74,
       "text": [
        "    Language  Population       State\n",
        "0   Gujarati          36     Gujarat\n",
        "1      Tamil          44  Tamil Nadu\n",
        "2     Telugu          67      Andhra\n",
        "3    Kannada          89   Karnataka\n",
        "4  Malayalam          34      Kerala"
       ]
      }
     ],
     "prompt_number": 74
    },
    {
     "cell_type": "code",
     "collapsed": false,
     "input": [
      "DataFrame(states, columns=['State', 'Language', 'Population']) # change the sequence of column index"
     ],
     "language": "python",
     "metadata": {},
     "outputs": [
      {
       "html": [
        "<div style=\"max-height:1000px;max-width:1500px;overflow:auto;\">\n",
        "<table border=\"1\" class=\"dataframe\">\n",
        "  <thead>\n",
        "    <tr style=\"text-align: right;\">\n",
        "      <th></th>\n",
        "      <th>State</th>\n",
        "      <th>Language</th>\n",
        "      <th>Population</th>\n",
        "    </tr>\n",
        "  </thead>\n",
        "  <tbody>\n",
        "    <tr>\n",
        "      <th>0</th>\n",
        "      <td>    Gujarat</td>\n",
        "      <td>  Gujarati</td>\n",
        "      <td> 36</td>\n",
        "    </tr>\n",
        "    <tr>\n",
        "      <th>1</th>\n",
        "      <td> Tamil Nadu</td>\n",
        "      <td>     Tamil</td>\n",
        "      <td> 44</td>\n",
        "    </tr>\n",
        "    <tr>\n",
        "      <th>2</th>\n",
        "      <td>     Andhra</td>\n",
        "      <td>    Telugu</td>\n",
        "      <td> 67</td>\n",
        "    </tr>\n",
        "    <tr>\n",
        "      <th>3</th>\n",
        "      <td>  Karnataka</td>\n",
        "      <td>   Kannada</td>\n",
        "      <td> 89</td>\n",
        "    </tr>\n",
        "    <tr>\n",
        "      <th>4</th>\n",
        "      <td>     Kerala</td>\n",
        "      <td> Malayalam</td>\n",
        "      <td> 34</td>\n",
        "    </tr>\n",
        "  </tbody>\n",
        "</table>\n",
        "</div>"
       ],
       "metadata": {},
       "output_type": "pyout",
       "prompt_number": 75,
       "text": [
        "        State   Language  Population\n",
        "0     Gujarat   Gujarati          36\n",
        "1  Tamil Nadu      Tamil          44\n",
        "2      Andhra     Telugu          67\n",
        "3   Karnataka    Kannada          89\n",
        "4      Kerala  Malayalam          34"
       ]
      }
     ],
     "prompt_number": 75
    },
    {
     "cell_type": "code",
     "collapsed": false,
     "input": [
      "new_farme = DataFrame(states, columns=['State', 'Language', 'Population', 'Per Capita Income'], index =['a','b','c','d','e'])\n",
      "#if you pass a column that isnt in states, it will appear with Na values"
     ],
     "language": "python",
     "metadata": {},
     "outputs": [],
     "prompt_number": 82
    },
    {
     "cell_type": "code",
     "collapsed": false,
     "input": [
      "print new_farme.columns\n",
      "print new_farme['State'] # retrieveing data like dictionary"
     ],
     "language": "python",
     "metadata": {},
     "outputs": [
      {
       "output_type": "stream",
       "stream": "stdout",
       "text": [
        "Index([u'State', u'Language', u'Population', u'Per Capita Income'], dtype='object')\n",
        "a       Gujarat\n",
        "b    Tamil Nadu\n",
        "c        Andhra\n",
        "d     Karnataka\n",
        "e        Kerala\n",
        "Name: State, dtype: object\n"
       ]
      }
     ],
     "prompt_number": 86
    },
    {
     "cell_type": "code",
     "collapsed": false,
     "input": [
      "new_farme.Population # like Series"
     ],
     "language": "python",
     "metadata": {},
     "outputs": [
      {
       "metadata": {},
       "output_type": "pyout",
       "prompt_number": 89,
       "text": [
        "a    36\n",
        "b    44\n",
        "c    67\n",
        "d    89\n",
        "e    34\n",
        "Name: Population, dtype: int64"
       ]
      }
     ],
     "prompt_number": 89
    },
    {
     "cell_type": "code",
     "collapsed": false,
     "input": [
      "new_farme.ix[3] # rows can be retrieved using .ic function\n",
      "# here I have retrieved 3rd row"
     ],
     "language": "python",
     "metadata": {},
     "outputs": [
      {
       "metadata": {},
       "output_type": "pyout",
       "prompt_number": 91,
       "text": [
        "State                Karnataka\n",
        "Language               Kannada\n",
        "Population                  89\n",
        "Per Capita Income          NaN\n",
        "Name: d, dtype: object"
       ]
      }
     ],
     "prompt_number": 91
    },
    {
     "cell_type": "code",
     "collapsed": false,
     "input": [
      " new_farme"
     ],
     "language": "python",
     "metadata": {},
     "outputs": [
      {
       "html": [
        "<div style=\"max-height:1000px;max-width:1500px;overflow:auto;\">\n",
        "<table border=\"1\" class=\"dataframe\">\n",
        "  <thead>\n",
        "    <tr style=\"text-align: right;\">\n",
        "      <th></th>\n",
        "      <th>State</th>\n",
        "      <th>Language</th>\n",
        "      <th>Population</th>\n",
        "      <th>Per Capita Income</th>\n",
        "    </tr>\n",
        "  </thead>\n",
        "  <tbody>\n",
        "    <tr>\n",
        "      <th>a</th>\n",
        "      <td>    Gujarat</td>\n",
        "      <td>  Gujarati</td>\n",
        "      <td> 36</td>\n",
        "      <td> NaN</td>\n",
        "    </tr>\n",
        "    <tr>\n",
        "      <th>b</th>\n",
        "      <td> Tamil Nadu</td>\n",
        "      <td>     Tamil</td>\n",
        "      <td> 44</td>\n",
        "      <td> NaN</td>\n",
        "    </tr>\n",
        "    <tr>\n",
        "      <th>c</th>\n",
        "      <td>     Andhra</td>\n",
        "      <td>    Telugu</td>\n",
        "      <td> 67</td>\n",
        "      <td> NaN</td>\n",
        "    </tr>\n",
        "    <tr>\n",
        "      <th>d</th>\n",
        "      <td>  Karnataka</td>\n",
        "      <td>   Kannada</td>\n",
        "      <td> 89</td>\n",
        "      <td> NaN</td>\n",
        "    </tr>\n",
        "    <tr>\n",
        "      <th>e</th>\n",
        "      <td>     Kerala</td>\n",
        "      <td> Malayalam</td>\n",
        "      <td> 34</td>\n",
        "      <td> NaN</td>\n",
        "    </tr>\n",
        "  </tbody>\n",
        "</table>\n",
        "</div>"
       ],
       "metadata": {},
       "output_type": "pyout",
       "prompt_number": 94,
       "text": [
        "        State   Language  Population Per Capita Income\n",
        "a     Gujarat   Gujarati          36               NaN\n",
        "b  Tamil Nadu      Tamil          44               NaN\n",
        "c      Andhra     Telugu          67               NaN\n",
        "d   Karnataka    Kannada          89               NaN\n",
        "e      Kerala  Malayalam          34               NaN"
       ]
      }
     ],
     "prompt_number": 94
    },
    {
     "cell_type": "code",
     "collapsed": false,
     "input": [
      "new_farme['Per Capita Income'] = 99 # the empty per capita income column can be assigned a value\n",
      "new_farme"
     ],
     "language": "python",
     "metadata": {},
     "outputs": [
      {
       "html": [
        "<div style=\"max-height:1000px;max-width:1500px;overflow:auto;\">\n",
        "<table border=\"1\" class=\"dataframe\">\n",
        "  <thead>\n",
        "    <tr style=\"text-align: right;\">\n",
        "      <th></th>\n",
        "      <th>State</th>\n",
        "      <th>Language</th>\n",
        "      <th>Population</th>\n",
        "      <th>Per Capita Income</th>\n",
        "    </tr>\n",
        "  </thead>\n",
        "  <tbody>\n",
        "    <tr>\n",
        "      <th>a</th>\n",
        "      <td>    Gujarat</td>\n",
        "      <td>  Gujarati</td>\n",
        "      <td> 36</td>\n",
        "      <td> 99</td>\n",
        "    </tr>\n",
        "    <tr>\n",
        "      <th>b</th>\n",
        "      <td> Tamil Nadu</td>\n",
        "      <td>     Tamil</td>\n",
        "      <td> 44</td>\n",
        "      <td> 99</td>\n",
        "    </tr>\n",
        "    <tr>\n",
        "      <th>c</th>\n",
        "      <td>     Andhra</td>\n",
        "      <td>    Telugu</td>\n",
        "      <td> 67</td>\n",
        "      <td> 99</td>\n",
        "    </tr>\n",
        "    <tr>\n",
        "      <th>d</th>\n",
        "      <td>  Karnataka</td>\n",
        "      <td>   Kannada</td>\n",
        "      <td> 89</td>\n",
        "      <td> 99</td>\n",
        "    </tr>\n",
        "    <tr>\n",
        "      <th>e</th>\n",
        "      <td>     Kerala</td>\n",
        "      <td> Malayalam</td>\n",
        "      <td> 34</td>\n",
        "      <td> 99</td>\n",
        "    </tr>\n",
        "  </tbody>\n",
        "</table>\n",
        "</div>"
       ],
       "metadata": {},
       "output_type": "pyout",
       "prompt_number": 97,
       "text": [
        "        State   Language  Population  Per Capita Income\n",
        "a     Gujarat   Gujarati          36                 99\n",
        "b  Tamil Nadu      Tamil          44                 99\n",
        "c      Andhra     Telugu          67                 99\n",
        "d   Karnataka    Kannada          89                 99\n",
        "e      Kerala  Malayalam          34                 99"
       ]
      }
     ],
     "prompt_number": 97
    },
    {
     "cell_type": "code",
     "collapsed": false,
     "input": [
      "new_farme['Per Capita Income'] = np.arange(5) # assigning a value to the last column\n",
      "new_farme"
     ],
     "language": "python",
     "metadata": {},
     "outputs": [
      {
       "html": [
        "<div style=\"max-height:1000px;max-width:1500px;overflow:auto;\">\n",
        "<table border=\"1\" class=\"dataframe\">\n",
        "  <thead>\n",
        "    <tr style=\"text-align: right;\">\n",
        "      <th></th>\n",
        "      <th>State</th>\n",
        "      <th>Language</th>\n",
        "      <th>Population</th>\n",
        "      <th>Per Capita Income</th>\n",
        "    </tr>\n",
        "  </thead>\n",
        "  <tbody>\n",
        "    <tr>\n",
        "      <th>a</th>\n",
        "      <td>    Gujarat</td>\n",
        "      <td>  Gujarati</td>\n",
        "      <td> 36</td>\n",
        "      <td> 0</td>\n",
        "    </tr>\n",
        "    <tr>\n",
        "      <th>b</th>\n",
        "      <td> Tamil Nadu</td>\n",
        "      <td>     Tamil</td>\n",
        "      <td> 44</td>\n",
        "      <td> 1</td>\n",
        "    </tr>\n",
        "    <tr>\n",
        "      <th>c</th>\n",
        "      <td>     Andhra</td>\n",
        "      <td>    Telugu</td>\n",
        "      <td> 67</td>\n",
        "      <td> 2</td>\n",
        "    </tr>\n",
        "    <tr>\n",
        "      <th>d</th>\n",
        "      <td>  Karnataka</td>\n",
        "      <td>   Kannada</td>\n",
        "      <td> 89</td>\n",
        "      <td> 3</td>\n",
        "    </tr>\n",
        "    <tr>\n",
        "      <th>e</th>\n",
        "      <td>     Kerala</td>\n",
        "      <td> Malayalam</td>\n",
        "      <td> 34</td>\n",
        "      <td> 4</td>\n",
        "    </tr>\n",
        "  </tbody>\n",
        "</table>\n",
        "</div>"
       ],
       "metadata": {},
       "output_type": "pyout",
       "prompt_number": 99,
       "text": [
        "        State   Language  Population  Per Capita Income\n",
        "a     Gujarat   Gujarati          36                  0\n",
        "b  Tamil Nadu      Tamil          44                  1\n",
        "c      Andhra     Telugu          67                  2\n",
        "d   Karnataka    Kannada          89                  3\n",
        "e      Kerala  Malayalam          34                  4"
       ]
      }
     ],
     "prompt_number": 99
    },
    {
     "cell_type": "code",
     "collapsed": false,
     "input": [
      "series = Series([44,33,22], index =['b','c','d'])\n",
      "new_farme['Per Capita Income'] = series\n",
      "#when assigning list or arrays to a column, the values lenght should match the length of the DataFrame\n",
      "new_farme # again the missing values are displayed as NAN"
     ],
     "language": "python",
     "metadata": {},
     "outputs": [
      {
       "html": [
        "<div style=\"max-height:1000px;max-width:1500px;overflow:auto;\">\n",
        "<table border=\"1\" class=\"dataframe\">\n",
        "  <thead>\n",
        "    <tr style=\"text-align: right;\">\n",
        "      <th></th>\n",
        "      <th>State</th>\n",
        "      <th>Language</th>\n",
        "      <th>Population</th>\n",
        "      <th>Per Capita Income</th>\n",
        "    </tr>\n",
        "  </thead>\n",
        "  <tbody>\n",
        "    <tr>\n",
        "      <th>a</th>\n",
        "      <td>    Gujarat</td>\n",
        "      <td>  Gujarati</td>\n",
        "      <td> 36</td>\n",
        "      <td>NaN</td>\n",
        "    </tr>\n",
        "    <tr>\n",
        "      <th>b</th>\n",
        "      <td> Tamil Nadu</td>\n",
        "      <td>     Tamil</td>\n",
        "      <td> 44</td>\n",
        "      <td> 44</td>\n",
        "    </tr>\n",
        "    <tr>\n",
        "      <th>c</th>\n",
        "      <td>     Andhra</td>\n",
        "      <td>    Telugu</td>\n",
        "      <td> 67</td>\n",
        "      <td> 33</td>\n",
        "    </tr>\n",
        "    <tr>\n",
        "      <th>d</th>\n",
        "      <td>  Karnataka</td>\n",
        "      <td>   Kannada</td>\n",
        "      <td> 89</td>\n",
        "      <td> 22</td>\n",
        "    </tr>\n",
        "    <tr>\n",
        "      <th>e</th>\n",
        "      <td>     Kerala</td>\n",
        "      <td> Malayalam</td>\n",
        "      <td> 34</td>\n",
        "      <td>NaN</td>\n",
        "    </tr>\n",
        "  </tbody>\n",
        "</table>\n",
        "</div>"
       ],
       "metadata": {},
       "output_type": "pyout",
       "prompt_number": 104,
       "text": [
        "        State   Language  Population  Per Capita Income\n",
        "a     Gujarat   Gujarati          36                NaN\n",
        "b  Tamil Nadu      Tamil          44                 44\n",
        "c      Andhra     Telugu          67                 33\n",
        "d   Karnataka    Kannada          89                 22\n",
        "e      Kerala  Malayalam          34                NaN"
       ]
      }
     ],
     "prompt_number": 104
    },
    {
     "cell_type": "code",
     "collapsed": false,
     "input": [
      "new_farme['Development'] = new_farme.State == 'Gujarat'# assigning a new column\n",
      "print new_farme\n",
      "del new_farme['Development'] # will delete the column 'Development'\n",
      "new_farme"
     ],
     "language": "python",
     "metadata": {},
     "outputs": [
      {
       "output_type": "stream",
       "stream": "stdout",
       "text": [
        "        State   Language  Population  Per Capita Income Development\n",
        "a     Gujarat   Gujarati          36                NaN        True\n",
        "b  Tamil Nadu      Tamil          44                 44       False\n",
        "c      Andhra     Telugu          67                 33       False\n",
        "d   Karnataka    Kannada          89                 22       False\n",
        "e      Kerala  Malayalam          34                NaN       False\n"
       ]
      },
      {
       "html": [
        "<div style=\"max-height:1000px;max-width:1500px;overflow:auto;\">\n",
        "<table border=\"1\" class=\"dataframe\">\n",
        "  <thead>\n",
        "    <tr style=\"text-align: right;\">\n",
        "      <th></th>\n",
        "      <th>State</th>\n",
        "      <th>Language</th>\n",
        "      <th>Population</th>\n",
        "      <th>Per Capita Income</th>\n",
        "    </tr>\n",
        "  </thead>\n",
        "  <tbody>\n",
        "    <tr>\n",
        "      <th>a</th>\n",
        "      <td>    Gujarat</td>\n",
        "      <td>  Gujarati</td>\n",
        "      <td> 36</td>\n",
        "      <td>NaN</td>\n",
        "    </tr>\n",
        "    <tr>\n",
        "      <th>b</th>\n",
        "      <td> Tamil Nadu</td>\n",
        "      <td>     Tamil</td>\n",
        "      <td> 44</td>\n",
        "      <td> 44</td>\n",
        "    </tr>\n",
        "    <tr>\n",
        "      <th>c</th>\n",
        "      <td>     Andhra</td>\n",
        "      <td>    Telugu</td>\n",
        "      <td> 67</td>\n",
        "      <td> 33</td>\n",
        "    </tr>\n",
        "    <tr>\n",
        "      <th>d</th>\n",
        "      <td>  Karnataka</td>\n",
        "      <td>   Kannada</td>\n",
        "      <td> 89</td>\n",
        "      <td> 22</td>\n",
        "    </tr>\n",
        "    <tr>\n",
        "      <th>e</th>\n",
        "      <td>     Kerala</td>\n",
        "      <td> Malayalam</td>\n",
        "      <td> 34</td>\n",
        "      <td>NaN</td>\n",
        "    </tr>\n",
        "  </tbody>\n",
        "</table>\n",
        "</div>"
       ],
       "metadata": {},
       "output_type": "pyout",
       "prompt_number": 119,
       "text": [
        "        State   Language  Population  Per Capita Income\n",
        "a     Gujarat   Gujarati          36                NaN\n",
        "b  Tamil Nadu      Tamil          44                 44\n",
        "c      Andhra     Telugu          67                 33\n",
        "d   Karnataka    Kannada          89                 22\n",
        "e      Kerala  Malayalam          34                NaN"
       ]
      }
     ],
     "prompt_number": 119
    },
    {
     "cell_type": "code",
     "collapsed": false,
     "input": [
      "new_data ={'Modi': {2010: 72, 2012: 78, 2014 : 98},'Rahul': {2010: 55, 2012: 34, 2014: 22}}\n",
      "elections = DataFrame(new_data) \n",
      "print elections# the outer dict keys are columns and inner dict keys are rows\n",
      "elections.T # transpose of a data frame"
     ],
     "language": "python",
     "metadata": {},
     "outputs": [
      {
       "output_type": "stream",
       "stream": "stdout",
       "text": [
        "      Modi  Rahul\n",
        "2010    72     55\n",
        "2012    78     34\n",
        "2014    98     22\n"
       ]
      },
      {
       "html": [
        "<div style=\"max-height:1000px;max-width:1500px;overflow:auto;\">\n",
        "<table border=\"1\" class=\"dataframe\">\n",
        "  <thead>\n",
        "    <tr style=\"text-align: right;\">\n",
        "      <th></th>\n",
        "      <th>2010</th>\n",
        "      <th>2012</th>\n",
        "      <th>2014</th>\n",
        "    </tr>\n",
        "  </thead>\n",
        "  <tbody>\n",
        "    <tr>\n",
        "      <th>Modi</th>\n",
        "      <td> 72</td>\n",
        "      <td> 78</td>\n",
        "      <td> 98</td>\n",
        "    </tr>\n",
        "    <tr>\n",
        "      <th>Rahul</th>\n",
        "      <td> 55</td>\n",
        "      <td> 34</td>\n",
        "      <td> 22</td>\n",
        "    </tr>\n",
        "  </tbody>\n",
        "</table>\n",
        "</div>"
       ],
       "metadata": {},
       "output_type": "pyout",
       "prompt_number": 16,
       "text": [
        "       2010  2012  2014\n",
        "Modi     72    78    98\n",
        "Rahul    55    34    22"
       ]
      }
     ],
     "prompt_number": 16
    },
    {
     "cell_type": "code",
     "collapsed": false,
     "input": [
      "DataFrame(new_data, index =[2012, 2014, 2016]) # you can assign index for the data frame"
     ],
     "language": "python",
     "metadata": {},
     "outputs": [
      {
       "html": [
        "<div style=\"max-height:1000px;max-width:1500px;overflow:auto;\">\n",
        "<table border=\"1\" class=\"dataframe\">\n",
        "  <thead>\n",
        "    <tr style=\"text-align: right;\">\n",
        "      <th></th>\n",
        "      <th>Modi</th>\n",
        "      <th>Rahul</th>\n",
        "    </tr>\n",
        "  </thead>\n",
        "  <tbody>\n",
        "    <tr>\n",
        "      <th>2012</th>\n",
        "      <td> 78</td>\n",
        "      <td> 34</td>\n",
        "    </tr>\n",
        "    <tr>\n",
        "      <th>2014</th>\n",
        "      <td> 98</td>\n",
        "      <td> 22</td>\n",
        "    </tr>\n",
        "    <tr>\n",
        "      <th>2016</th>\n",
        "      <td>NaN</td>\n",
        "      <td>NaN</td>\n",
        "    </tr>\n",
        "  </tbody>\n",
        "</table>\n",
        "</div>"
       ],
       "metadata": {},
       "output_type": "pyout",
       "prompt_number": 17,
       "text": [
        "      Modi  Rahul\n",
        "2012    78     34\n",
        "2014    98     22\n",
        "2016   NaN    NaN"
       ]
      }
     ],
     "prompt_number": 17
    },
    {
     "cell_type": "code",
     "collapsed": false,
     "input": [
      "ex= {'Gujarat':elections['Modi'][:-1], 'India': elections['Rahul'][:2]}\n",
      "px =DataFrame(ex)\n",
      "px"
     ],
     "language": "python",
     "metadata": {},
     "outputs": [
      {
       "html": [
        "<div style=\"max-height:1000px;max-width:1500px;overflow:auto;\">\n",
        "<table border=\"1\" class=\"dataframe\">\n",
        "  <thead>\n",
        "    <tr style=\"text-align: right;\">\n",
        "      <th></th>\n",
        "      <th>Gujarat</th>\n",
        "      <th>India</th>\n",
        "    </tr>\n",
        "  </thead>\n",
        "  <tbody>\n",
        "    <tr>\n",
        "      <th>2010</th>\n",
        "      <td> 72</td>\n",
        "      <td> 55</td>\n",
        "    </tr>\n",
        "    <tr>\n",
        "      <th>2012</th>\n",
        "      <td> 78</td>\n",
        "      <td> 34</td>\n",
        "    </tr>\n",
        "  </tbody>\n",
        "</table>\n",
        "</div>"
       ],
       "metadata": {},
       "output_type": "pyout",
       "prompt_number": 18,
       "text": [
        "      Gujarat  India\n",
        "2010       72     55\n",
        "2012       78     34"
       ]
      }
     ],
     "prompt_number": 18
    },
    {
     "cell_type": "code",
     "collapsed": false,
     "input": [
      "from IPython.display import Image\n",
      "i = Image(filename='Constructors.png')\n",
      "i # list of things you can pass to a dataframe"
     ],
     "language": "python",
     "metadata": {},
     "outputs": [
      {
       "metadata": {},
       "output_type": "pyout",
       "png": "[encoded data removed]",
       "prompt_number": 150,
       "text": [
        "<IPython.core.display.Image at 0x5753470>"
       ]
      }
     ],
     "prompt_number": 150
    },
    {
     "cell_type": "code",
     "collapsed": false,
     "input": [
      "px.index.name = 'year'\n",
      "px.columns.name = 'politicians'\n",
      "px"
     ],
     "language": "python",
     "metadata": {},
     "outputs": [
      {
       "html": [
        "<div style=\"max-height:1000px;max-width:1500px;overflow:auto;\">\n",
        "<table border=\"1\" class=\"dataframe\">\n",
        "  <thead>\n",
        "    <tr style=\"text-align: right;\">\n",
        "      <th>politicians</th>\n",
        "      <th>Gujarat</th>\n",
        "      <th>India</th>\n",
        "    </tr>\n",
        "    <tr>\n",
        "      <th>year</th>\n",
        "      <th></th>\n",
        "      <th></th>\n",
        "    </tr>\n",
        "  </thead>\n",
        "  <tbody>\n",
        "    <tr>\n",
        "      <th>2010</th>\n",
        "      <td> 72</td>\n",
        "      <td> 55</td>\n",
        "    </tr>\n",
        "    <tr>\n",
        "      <th>2012</th>\n",
        "      <td> 78</td>\n",
        "      <td> 34</td>\n",
        "    </tr>\n",
        "  </tbody>\n",
        "</table>\n",
        "</div>"
       ],
       "metadata": {},
       "output_type": "pyout",
       "prompt_number": 155,
       "text": [
        "politicians  Gujarat  India\n",
        "year                       \n",
        "2010              72     55\n",
        "2012              78     34"
       ]
      }
     ],
     "prompt_number": 155
    },
    {
     "cell_type": "code",
     "collapsed": false,
     "input": [
      "px.values"
     ],
     "language": "python",
     "metadata": {},
     "outputs": [
      {
       "metadata": {},
       "output_type": "pyout",
       "prompt_number": 156,
       "text": [
        "array([[72, 55],\n",
        "       [78, 34]], dtype=int64)"
       ]
      }
     ],
     "prompt_number": 156
    },
    {
     "cell_type": "code",
     "collapsed": false,
     "input": [
      "jeeva = Series([5,4,3,2,1,-7,-29], index =['a','b','c','d','e','f','h'])\n",
      "index = jeeva.index\n",
      "print index #u denotes unicode\n",
      "print index[1:]# returns all the index elements except a. \n",
      "index[1] = 'f' # you cannot modify an index element. It will generate an error. In other words, they are immutable"
     ],
     "language": "python",
     "metadata": {},
     "outputs": [
      {
       "ename": "TypeError",
       "evalue": "'<class 'pandas.core.index.Index'>' does not support mutable operations.",
       "output_type": "pyerr",
       "traceback": [
        "\u001b[1;31m---------------------------------------------------------------------------\u001b[0m\n\u001b[1;31mTypeError\u001b[0m                                 Traceback (most recent call last)",
        "\u001b[1;32m<ipython-input-3-e8b7ee2d0552>\u001b[0m in \u001b[0;36m<module>\u001b[1;34m()\u001b[0m\n\u001b[0;32m      3\u001b[0m \u001b[1;32mprint\u001b[0m \u001b[0mindex\u001b[0m \u001b[1;31m#u denotes unicode\u001b[0m\u001b[1;33m\u001b[0m\u001b[0m\n\u001b[0;32m      4\u001b[0m \u001b[1;32mprint\u001b[0m \u001b[0mindex\u001b[0m\u001b[1;33m[\u001b[0m\u001b[1;36m1\u001b[0m\u001b[1;33m:\u001b[0m\u001b[1;33m]\u001b[0m\u001b[1;31m# returns all the index elements except a.\u001b[0m\u001b[1;33m\u001b[0m\u001b[0m\n\u001b[1;32m----> 5\u001b[1;33m \u001b[0mindex\u001b[0m\u001b[1;33m[\u001b[0m\u001b[1;36m1\u001b[0m\u001b[1;33m]\u001b[0m \u001b[1;33m=\u001b[0m \u001b[1;34m'f'\u001b[0m \u001b[1;31m# you cannot modify an index element. It will generate an error. In other words, they are immutable\u001b[0m\u001b[1;33m\u001b[0m\u001b[0m\n\u001b[0m",
        "\u001b[1;32mC:\\Users\\tk\\AppData\\Local\\Enthought\\Canopy32\\User\\lib\\site-packages\\pandas\\core\\base.pyc\u001b[0m in \u001b[0;36m_disabled\u001b[1;34m(self, *args, **kwargs)\u001b[0m\n\u001b[0;32m    177\u001b[0m         \u001b[1;34m\"\"\"This method will not function because object is immutable.\"\"\"\u001b[0m\u001b[1;33m\u001b[0m\u001b[0m\n\u001b[0;32m    178\u001b[0m         raise TypeError(\"'%s' does not support mutable operations.\" %\n\u001b[1;32m--> 179\u001b[1;33m                         self.__class__)\n\u001b[0m\u001b[0;32m    180\u001b[0m \u001b[1;33m\u001b[0m\u001b[0m\n\u001b[0;32m    181\u001b[0m     \u001b[0m__setitem__\u001b[0m \u001b[1;33m=\u001b[0m \u001b[0m__setslice__\u001b[0m \u001b[1;33m=\u001b[0m \u001b[0m__delitem__\u001b[0m \u001b[1;33m=\u001b[0m \u001b[0m__delslice__\u001b[0m \u001b[1;33m=\u001b[0m \u001b[0m_disabled\u001b[0m\u001b[1;33m\u001b[0m\u001b[0m\n",
        "\u001b[1;31mTypeError\u001b[0m: '<class 'pandas.core.index.Index'>' does not support mutable operations."
       ]
      },
      {
       "output_type": "stream",
       "stream": "stdout",
       "text": [
        "Index([u'a', u'b', u'c', u'd', u'e', u'f', u'h'], dtype='object')\n",
        "Index([u'b', u'c', u'd', u'e', u'f', u'h'], dtype='object')\n"
       ]
      }
     ],
     "prompt_number": 3
    },
    {
     "cell_type": "code",
     "collapsed": false,
     "input": [
      "print px\n",
      "2013 in px.index # checks if 2003 is an index in data frame px"
     ],
     "language": "python",
     "metadata": {},
     "outputs": [
      {
       "output_type": "stream",
       "stream": "stdout",
       "text": [
        "      Gujarat  India\n",
        "2010       72     55\n",
        "2012       78     34\n"
       ]
      },
      {
       "metadata": {},
       "output_type": "pyout",
       "prompt_number": 22,
       "text": [
        "False"
       ]
      }
     ],
     "prompt_number": 22
    },
    {
     "cell_type": "markdown",
     "metadata": {},
     "source": [
      "# Reindex"
     ]
    },
    {
     "cell_type": "code",
     "collapsed": false,
     "input": [
      "var = Series(['Python', 'Java', 'c', 'c++', 'Php'], index =[5,4,3,2,1])\n",
      "print var\n",
      "var1 = var.reindex([1,2,3,4,5])# reindex creates a new object \n",
      "print var1 "
     ],
     "language": "python",
     "metadata": {},
     "outputs": [
      {
       "output_type": "stream",
       "stream": "stdout",
       "text": [
        "5    Python\n",
        "4      Java\n",
        "3         c\n",
        "2       c++\n",
        "1       Php\n",
        "dtype: object\n",
        "1       Php\n",
        "2       c++\n",
        "3         c\n",
        "4      Java\n",
        "5    Python\n",
        "dtype: object\n"
       ]
      }
     ],
     "prompt_number": 27
    },
    {
     "cell_type": "code",
     "collapsed": false,
     "input": [
      "var.reindex([1,2,3,4,5,6,7])# introduces new indexes with values Nan"
     ],
     "language": "python",
     "metadata": {},
     "outputs": [
      {
       "metadata": {},
       "output_type": "pyout",
       "prompt_number": 28,
       "text": [
        "1       Php\n",
        "2       c++\n",
        "3         c\n",
        "4      Java\n",
        "5    Python\n",
        "6       NaN\n",
        "7       NaN\n",
        "dtype: object"
       ]
      }
     ],
     "prompt_number": 28
    },
    {
     "cell_type": "code",
     "collapsed": false,
     "input": [
      "var.reindex([1,2,3,4,5,6,7], fill_value =1) # you can use fill value to fill the Nan values. Here I have used fill value as 1. You can use any value."
     ],
     "language": "python",
     "metadata": {},
     "outputs": [
      {
       "metadata": {},
       "output_type": "pyout",
       "prompt_number": 31,
       "text": [
        "1       Php\n",
        "2       c++\n",
        "3         c\n",
        "4      Java\n",
        "5    Python\n",
        "6         1\n",
        "7         1\n",
        "dtype: object"
       ]
      }
     ],
     "prompt_number": 31
    },
    {
     "cell_type": "code",
     "collapsed": false,
     "input": [
      "gh =Series(['Dhoni', 'Sachin', 'Kohli'], index =[0,2,4])\n",
      "print gh\n",
      "gh.reindex(range(6), method ='ffill') #ffill is forward fill. It forward fills the values"
     ],
     "language": "python",
     "metadata": {},
     "outputs": [
      {
       "output_type": "stream",
       "stream": "stdout",
       "text": [
        "0     Dhoni\n",
        "2    Sachin\n",
        "4     Kohli\n",
        "dtype: object\n"
       ]
      },
      {
       "metadata": {},
       "output_type": "pyout",
       "prompt_number": 35,
       "text": [
        "0     Dhoni\n",
        "1     Dhoni\n",
        "2    Sachin\n",
        "3    Sachin\n",
        "4     Kohli\n",
        "5     Kohli\n",
        "dtype: object"
       ]
      }
     ],
     "prompt_number": 35
    },
    {
     "cell_type": "code",
     "collapsed": false,
     "input": [
      "gh.reindex(range(6), method ='bfill')# bfill, backward fills the values"
     ],
     "language": "python",
     "metadata": {},
     "outputs": [
      {
       "metadata": {},
       "output_type": "pyout",
       "prompt_number": 36,
       "text": [
        "0     Dhoni\n",
        "1    Sachin\n",
        "2    Sachin\n",
        "3     Kohli\n",
        "4     Kohli\n",
        "5       NaN\n",
        "dtype: object"
       ]
      }
     ],
     "prompt_number": 36
    },
    {
     "cell_type": "code",
     "collapsed": false,
     "input": [
      "import numpy as np\n",
      "fp = DataFrame(np.arange(9).reshape((3,3)),index =['a','b','c'], columns =['Gujarat','Tamil Nadu', 'Kerala'])\n",
      "fp"
     ],
     "language": "python",
     "metadata": {},
     "outputs": [
      {
       "html": [
        "<div style=\"max-height:1000px;max-width:1500px;overflow:auto;\">\n",
        "<table border=\"1\" class=\"dataframe\">\n",
        "  <thead>\n",
        "    <tr style=\"text-align: right;\">\n",
        "      <th></th>\n",
        "      <th>Gujarat</th>\n",
        "      <th>Tamil Nadu</th>\n",
        "      <th>Kerala</th>\n",
        "    </tr>\n",
        "  </thead>\n",
        "  <tbody>\n",
        "    <tr>\n",
        "      <th>a</th>\n",
        "      <td> 0</td>\n",
        "      <td> 1</td>\n",
        "      <td> 2</td>\n",
        "    </tr>\n",
        "    <tr>\n",
        "      <th>b</th>\n",
        "      <td> 3</td>\n",
        "      <td> 4</td>\n",
        "      <td> 5</td>\n",
        "    </tr>\n",
        "    <tr>\n",
        "      <th>c</th>\n",
        "      <td> 6</td>\n",
        "      <td> 7</td>\n",
        "      <td> 8</td>\n",
        "    </tr>\n",
        "  </tbody>\n",
        "</table>\n",
        "</div>"
       ],
       "metadata": {},
       "output_type": "pyout",
       "prompt_number": 45,
       "text": [
        "   Gujarat  Tamil Nadu  Kerala\n",
        "a        0           1       2\n",
        "b        3           4       5\n",
        "c        6           7       8"
       ]
      }
     ],
     "prompt_number": 45
    },
    {
     "cell_type": "code",
     "collapsed": false,
     "input": [
      "fp1 =fp.reindex(['a', 'b', 'c', 'd'], columns = states) # reindexing columns and indices\n",
      "fp1"
     ],
     "language": "python",
     "metadata": {},
     "outputs": [
      {
       "html": [
        "<div style=\"max-height:1000px;max-width:1500px;overflow:auto;\">\n",
        "<table border=\"1\" class=\"dataframe\">\n",
        "  <thead>\n",
        "    <tr style=\"text-align: right;\">\n",
        "      <th></th>\n",
        "      <th>Gujarat</th>\n",
        "      <th>Assam</th>\n",
        "      <th>Kerala</th>\n",
        "    </tr>\n",
        "  </thead>\n",
        "  <tbody>\n",
        "    <tr>\n",
        "      <th>a</th>\n",
        "      <td>  0</td>\n",
        "      <td>NaN</td>\n",
        "      <td>  2</td>\n",
        "    </tr>\n",
        "    <tr>\n",
        "      <th>b</th>\n",
        "      <td>  3</td>\n",
        "      <td>NaN</td>\n",
        "      <td>  5</td>\n",
        "    </tr>\n",
        "    <tr>\n",
        "      <th>c</th>\n",
        "      <td>  6</td>\n",
        "      <td>NaN</td>\n",
        "      <td>  8</td>\n",
        "    </tr>\n",
        "    <tr>\n",
        "      <th>d</th>\n",
        "      <td>NaN</td>\n",
        "      <td>NaN</td>\n",
        "      <td>NaN</td>\n",
        "    </tr>\n",
        "  </tbody>\n",
        "</table>\n",
        "</div>"
       ],
       "metadata": {},
       "output_type": "pyout",
       "prompt_number": 55,
       "text": [
        "   Gujarat  Assam  Kerala\n",
        "a        0    NaN       2\n",
        "b        3    NaN       5\n",
        "c        6    NaN       8\n",
        "d      NaN    NaN     NaN"
       ]
      }
     ],
     "prompt_number": 55
    },
    {
     "cell_type": "markdown",
     "metadata": {},
     "source": [
      "Other Reindexing arguments <br>\n",
      "<b>limit</b> When forward- or backfilling, maximum size gap to fill<br>\n",
      "<b>level</b> Match simple Index on level of MultiIndex, otherwise select subset of <br>\n",
      "<b>copy</b> Do not copy underlying data if new index is equivalent to old index. True by default (i.e. always copy data)."
     ]
    },
    {
     "cell_type": "markdown",
     "metadata": {},
     "source": [
      "# Dropping entries from an axis"
     ]
    },
    {
     "cell_type": "code",
     "collapsed": false,
     "input": [
      "er = Series(np.arange(5), index =['a','b','c','d','e'])\n",
      "print er\n",
      "er.drop(['a','b']) #drop method will return a new object  with values deleted from an axis"
     ],
     "language": "python",
     "metadata": {},
     "outputs": [
      {
       "output_type": "stream",
       "stream": "stdout",
       "text": [
        "a    0\n",
        "b    1\n",
        "c    2\n",
        "d    3\n",
        "e    4\n",
        "dtype: int32\n"
       ]
      },
      {
       "metadata": {},
       "output_type": "pyout",
       "prompt_number": 62,
       "text": [
        "c    2\n",
        "d    3\n",
        "e    4\n",
        "dtype: int32"
       ]
      }
     ],
     "prompt_number": 62
    },
    {
     "cell_type": "code",
     "collapsed": false,
     "input": [
      "states ={'State' :['Gujarat', 'Tamil Nadu', ' Andhra', 'Karnataka', 'Kerala'],\n",
      "                  'Population': [36, 44, 67,89,34],\n",
      "                  'Language' :['Gujarati', 'Tamil', 'Telugu', 'Kannada', 'Malayalam']}\n",
      "india = DataFrame(states, columns =['State', 'Population', 'Language'])\n",
      "print india\n",
      "india.drop([0,1])# will drop index 0 and 1"
     ],
     "language": "python",
     "metadata": {},
     "outputs": [
      {
       "output_type": "stream",
       "stream": "stdout",
       "text": [
        "        State  Population   Language\n",
        "0     Gujarat          36   Gujarati\n",
        "1  Tamil Nadu          44      Tamil\n",
        "2      Andhra          67     Telugu\n",
        "3   Karnataka          89    Kannada\n",
        "4      Kerala          34  Malayalam\n"
       ]
      },
      {
       "html": [
        "<div style=\"max-height:1000px;max-width:1500px;overflow:auto;\">\n",
        "<table border=\"1\" class=\"dataframe\">\n",
        "  <thead>\n",
        "    <tr style=\"text-align: right;\">\n",
        "      <th></th>\n",
        "      <th>State</th>\n",
        "      <th>Population</th>\n",
        "      <th>Language</th>\n",
        "    </tr>\n",
        "  </thead>\n",
        "  <tbody>\n",
        "    <tr>\n",
        "      <th>2</th>\n",
        "      <td>    Andhra</td>\n",
        "      <td> 67</td>\n",
        "      <td>    Telugu</td>\n",
        "    </tr>\n",
        "    <tr>\n",
        "      <th>3</th>\n",
        "      <td> Karnataka</td>\n",
        "      <td> 89</td>\n",
        "      <td>   Kannada</td>\n",
        "    </tr>\n",
        "    <tr>\n",
        "      <th>4</th>\n",
        "      <td>    Kerala</td>\n",
        "      <td> 34</td>\n",
        "      <td> Malayalam</td>\n",
        "    </tr>\n",
        "  </tbody>\n",
        "</table>\n",
        "</div>"
       ],
       "metadata": {},
       "output_type": "pyout",
       "prompt_number": 77,
       "text": [
        "       State  Population   Language\n",
        "2     Andhra          67     Telugu\n",
        "3  Karnataka          89    Kannada\n",
        "4     Kerala          34  Malayalam"
       ]
      }
     ],
     "prompt_number": 77
    },
    {
     "cell_type": "code",
     "collapsed": false,
     "input": [
      "india.drop(['State', 'Population'], axis =1 )# the function dropped population and state columns. Apply the same concept with axis =0"
     ],
     "language": "python",
     "metadata": {},
     "outputs": [
      {
       "html": [
        "<div style=\"max-height:1000px;max-width:1500px;overflow:auto;\">\n",
        "<table border=\"1\" class=\"dataframe\">\n",
        "  <thead>\n",
        "    <tr style=\"text-align: right;\">\n",
        "      <th></th>\n",
        "      <th>Language</th>\n",
        "    </tr>\n",
        "  </thead>\n",
        "  <tbody>\n",
        "    <tr>\n",
        "      <th>0</th>\n",
        "      <td>  Gujarati</td>\n",
        "    </tr>\n",
        "    <tr>\n",
        "      <th>1</th>\n",
        "      <td>     Tamil</td>\n",
        "    </tr>\n",
        "    <tr>\n",
        "      <th>2</th>\n",
        "      <td>    Telugu</td>\n",
        "    </tr>\n",
        "    <tr>\n",
        "      <th>3</th>\n",
        "      <td>   Kannada</td>\n",
        "    </tr>\n",
        "    <tr>\n",
        "      <th>4</th>\n",
        "      <td> Malayalam</td>\n",
        "    </tr>\n",
        "  </tbody>\n",
        "</table>\n",
        "</div>"
       ],
       "metadata": {},
       "output_type": "pyout",
       "prompt_number": 82,
       "text": [
        "    Language\n",
        "0   Gujarati\n",
        "1      Tamil\n",
        "2     Telugu\n",
        "3    Kannada\n",
        "4  Malayalam"
       ]
      }
     ],
     "prompt_number": 82
    },
    {
     "cell_type": "markdown",
     "metadata": {},
     "source": [
      "#Selection, Indexing and Filtering"
     ]
    },
    {
     "cell_type": "code",
     "collapsed": false,
     "input": [
      "var = Series(['Python', 'Java', 'c', 'c++', 'Php'], index =[5,4,3,2,1])\n",
      "var"
     ],
     "language": "python",
     "metadata": {},
     "outputs": [
      {
       "metadata": {},
       "output_type": "pyout",
       "prompt_number": 102,
       "text": [
        "5    Python\n",
        "4      Java\n",
        "3         c\n",
        "2       c++\n",
        "1       Php\n",
        "dtype: object"
       ]
      }
     ],
     "prompt_number": 102
    },
    {
     "cell_type": "code",
     "collapsed": false,
     "input": [
      "print var[5]\n",
      "print var[2:4]"
     ],
     "language": "python",
     "metadata": {},
     "outputs": [
      {
       "output_type": "stream",
       "stream": "stdout",
       "text": [
        "Python\n",
        "3      c\n",
        "2    c++\n",
        "dtype: object\n"
       ]
      }
     ],
     "prompt_number": 103
    },
    {
     "cell_type": "code",
     "collapsed": false,
     "input": [
      "var[[3,2,1]]"
     ],
     "language": "python",
     "metadata": {},
     "outputs": [
      {
       "metadata": {},
       "output_type": "pyout",
       "prompt_number": 104,
       "text": [
        "3      c\n",
        "2    c++\n",
        "1    Php\n",
        "dtype: object"
       ]
      }
     ],
     "prompt_number": 104
    },
    {
     "cell_type": "code",
     "collapsed": false,
     "input": [
      "var[var == 'Php']"
     ],
     "language": "python",
     "metadata": {},
     "outputs": [
      {
       "metadata": {},
       "output_type": "pyout",
       "prompt_number": 109,
       "text": [
        "1    Php\n",
        "dtype: object"
       ]
      }
     ],
     "prompt_number": 109
    },
    {
     "cell_type": "code",
     "collapsed": false,
     "input": [
      "states ={'State' :['Gujarat', 'Tamil Nadu', ' Andhra', 'Karnataka', 'Kerala'],\n",
      "                  'Population': [36, 44, 67,89,34],\n",
      "                  'Language' :['Gujarati', 'Tamil', 'Telugu', 'Kannada', 'Malayalam']}\n",
      "india = DataFrame(states, columns =['State', 'Population', 'Language'])\n",
      "india"
     ],
     "language": "python",
     "metadata": {},
     "outputs": [
      {
       "html": [
        "<div style=\"max-height:1000px;max-width:1500px;overflow:auto;\">\n",
        "<table border=\"1\" class=\"dataframe\">\n",
        "  <thead>\n",
        "    <tr style=\"text-align: right;\">\n",
        "      <th></th>\n",
        "      <th>State</th>\n",
        "      <th>Population</th>\n",
        "      <th>Language</th>\n",
        "    </tr>\n",
        "  </thead>\n",
        "  <tbody>\n",
        "    <tr>\n",
        "      <th>0</th>\n",
        "      <td>    Gujarat</td>\n",
        "      <td> 36</td>\n",
        "      <td>  Gujarati</td>\n",
        "    </tr>\n",
        "    <tr>\n",
        "      <th>1</th>\n",
        "      <td> Tamil Nadu</td>\n",
        "      <td> 44</td>\n",
        "      <td>     Tamil</td>\n",
        "    </tr>\n",
        "    <tr>\n",
        "      <th>2</th>\n",
        "      <td>     Andhra</td>\n",
        "      <td> 67</td>\n",
        "      <td>    Telugu</td>\n",
        "    </tr>\n",
        "    <tr>\n",
        "      <th>3</th>\n",
        "      <td>  Karnataka</td>\n",
        "      <td> 89</td>\n",
        "      <td>   Kannada</td>\n",
        "    </tr>\n",
        "    <tr>\n",
        "      <th>4</th>\n",
        "      <td>     Kerala</td>\n",
        "      <td> 34</td>\n",
        "      <td> Malayalam</td>\n",
        "    </tr>\n",
        "  </tbody>\n",
        "</table>\n",
        "</div>"
       ],
       "metadata": {},
       "output_type": "pyout",
       "prompt_number": 111,
       "text": [
        "        State  Population   Language\n",
        "0     Gujarat          36   Gujarati\n",
        "1  Tamil Nadu          44      Tamil\n",
        "2      Andhra          67     Telugu\n",
        "3   Karnataka          89    Kannada\n",
        "4      Kerala          34  Malayalam"
       ]
      }
     ],
     "prompt_number": 111
    },
    {
     "cell_type": "code",
     "collapsed": false,
     "input": [
      "india[['Population', 'Language']] # retrieve data from data frame"
     ],
     "language": "python",
     "metadata": {},
     "outputs": [
      {
       "html": [
        "<div style=\"max-height:1000px;max-width:1500px;overflow:auto;\">\n",
        "<table border=\"1\" class=\"dataframe\">\n",
        "  <thead>\n",
        "    <tr style=\"text-align: right;\">\n",
        "      <th></th>\n",
        "      <th>Population</th>\n",
        "      <th>Language</th>\n",
        "    </tr>\n",
        "  </thead>\n",
        "  <tbody>\n",
        "    <tr>\n",
        "      <th>0</th>\n",
        "      <td> 36</td>\n",
        "      <td>  Gujarati</td>\n",
        "    </tr>\n",
        "    <tr>\n",
        "      <th>1</th>\n",
        "      <td> 44</td>\n",
        "      <td>     Tamil</td>\n",
        "    </tr>\n",
        "    <tr>\n",
        "      <th>2</th>\n",
        "      <td> 67</td>\n",
        "      <td>    Telugu</td>\n",
        "    </tr>\n",
        "    <tr>\n",
        "      <th>3</th>\n",
        "      <td> 89</td>\n",
        "      <td>   Kannada</td>\n",
        "    </tr>\n",
        "    <tr>\n",
        "      <th>4</th>\n",
        "      <td> 34</td>\n",
        "      <td> Malayalam</td>\n",
        "    </tr>\n",
        "  </tbody>\n",
        "</table>\n",
        "</div>"
       ],
       "metadata": {},
       "output_type": "pyout",
       "prompt_number": 114,
       "text": [
        "   Population   Language\n",
        "0          36   Gujarati\n",
        "1          44      Tamil\n",
        "2          67     Telugu\n",
        "3          89    Kannada\n",
        "4          34  Malayalam"
       ]
      }
     ],
     "prompt_number": 114
    },
    {
     "cell_type": "code",
     "collapsed": false,
     "input": [
      "india[india['Population'] > 50] # returns data for population greater than 50"
     ],
     "language": "python",
     "metadata": {},
     "outputs": [
      {
       "html": [
        "<div style=\"max-height:1000px;max-width:1500px;overflow:auto;\">\n",
        "<table border=\"1\" class=\"dataframe\">\n",
        "  <thead>\n",
        "    <tr style=\"text-align: right;\">\n",
        "      <th></th>\n",
        "      <th>State</th>\n",
        "      <th>Population</th>\n",
        "      <th>Language</th>\n",
        "    </tr>\n",
        "  </thead>\n",
        "  <tbody>\n",
        "    <tr>\n",
        "      <th>2</th>\n",
        "      <td>    Andhra</td>\n",
        "      <td> 67</td>\n",
        "      <td>  Telugu</td>\n",
        "    </tr>\n",
        "    <tr>\n",
        "      <th>3</th>\n",
        "      <td> Karnataka</td>\n",
        "      <td> 89</td>\n",
        "      <td> Kannada</td>\n",
        "    </tr>\n",
        "  </tbody>\n",
        "</table>\n",
        "</div>"
       ],
       "metadata": {},
       "output_type": "pyout",
       "prompt_number": 115,
       "text": [
        "       State  Population Language\n",
        "2     Andhra          67   Telugu\n",
        "3  Karnataka          89  Kannada"
       ]
      }
     ],
     "prompt_number": 115
    },
    {
     "cell_type": "code",
     "collapsed": false,
     "input": [
      "india[:3] # first three rows"
     ],
     "language": "python",
     "metadata": {},
     "outputs": [
      {
       "html": [
        "<div style=\"max-height:1000px;max-width:1500px;overflow:auto;\">\n",
        "<table border=\"1\" class=\"dataframe\">\n",
        "  <thead>\n",
        "    <tr style=\"text-align: right;\">\n",
        "      <th></th>\n",
        "      <th>State</th>\n",
        "      <th>Population</th>\n",
        "      <th>Language</th>\n",
        "    </tr>\n",
        "  </thead>\n",
        "  <tbody>\n",
        "    <tr>\n",
        "      <th>0</th>\n",
        "      <td>    Gujarat</td>\n",
        "      <td> 36</td>\n",
        "      <td> Gujarati</td>\n",
        "    </tr>\n",
        "    <tr>\n",
        "      <th>1</th>\n",
        "      <td> Tamil Nadu</td>\n",
        "      <td> 44</td>\n",
        "      <td>    Tamil</td>\n",
        "    </tr>\n",
        "    <tr>\n",
        "      <th>2</th>\n",
        "      <td>     Andhra</td>\n",
        "      <td> 67</td>\n",
        "      <td>   Telugu</td>\n",
        "    </tr>\n",
        "  </tbody>\n",
        "</table>\n",
        "</div>"
       ],
       "metadata": {},
       "output_type": "pyout",
       "prompt_number": 117,
       "text": [
        "        State  Population  Language\n",
        "0     Gujarat          36  Gujarati\n",
        "1  Tamil Nadu          44     Tamil\n",
        "2      Andhra          67    Telugu"
       ]
      }
     ],
     "prompt_number": 117
    },
    {
     "cell_type": "code",
     "collapsed": false,
     "input": [
      "# for selecting specific rows and columns, you can use ix function\n",
      "import pandas as pd\n",
      "states ={'State' :['Gujarat', 'Tamil Nadu', ' Andhra', 'Karnataka', 'Kerala'],\n",
      "                  'Population': [36, 44, 67,89,34],\n",
      "                  'Language' :['Gujarati', 'Tamil', 'Telugu', 'Kannada', 'Malayalam']}\n",
      "india = DataFrame(states, columns =['State', 'Population', 'Language'], index =['a', 'b', 'c', 'd', 'e'])\n",
      "india"
     ],
     "language": "python",
     "metadata": {},
     "outputs": [
      {
       "html": [
        "<div style=\"max-height:1000px;max-width:1500px;overflow:auto;\">\n",
        "<table border=\"1\" class=\"dataframe\">\n",
        "  <thead>\n",
        "    <tr style=\"text-align: right;\">\n",
        "      <th></th>\n",
        "      <th>State</th>\n",
        "      <th>Population</th>\n",
        "      <th>Language</th>\n",
        "    </tr>\n",
        "  </thead>\n",
        "  <tbody>\n",
        "    <tr>\n",
        "      <th>a</th>\n",
        "      <td>    Gujarat</td>\n",
        "      <td> 36</td>\n",
        "      <td>  Gujarati</td>\n",
        "    </tr>\n",
        "    <tr>\n",
        "      <th>b</th>\n",
        "      <td> Tamil Nadu</td>\n",
        "      <td> 44</td>\n",
        "      <td>     Tamil</td>\n",
        "    </tr>\n",
        "    <tr>\n",
        "      <th>c</th>\n",
        "      <td>     Andhra</td>\n",
        "      <td> 67</td>\n",
        "      <td>    Telugu</td>\n",
        "    </tr>\n",
        "    <tr>\n",
        "      <th>d</th>\n",
        "      <td>  Karnataka</td>\n",
        "      <td> 89</td>\n",
        "      <td>   Kannada</td>\n",
        "    </tr>\n",
        "    <tr>\n",
        "      <th>e</th>\n",
        "      <td>     Kerala</td>\n",
        "      <td> 34</td>\n",
        "      <td> Malayalam</td>\n",
        "    </tr>\n",
        "  </tbody>\n",
        "</table>\n",
        "</div>"
       ],
       "metadata": {},
       "output_type": "pyout",
       "prompt_number": 4,
       "text": [
        "        State  Population   Language\n",
        "a     Gujarat          36   Gujarati\n",
        "b  Tamil Nadu          44      Tamil\n",
        "c      Andhra          67     Telugu\n",
        "d   Karnataka          89    Kannada\n",
        "e      Kerala          34  Malayalam"
       ]
      }
     ],
     "prompt_number": 4
    },
    {
     "cell_type": "code",
     "collapsed": false,
     "input": [
      "india.ix[['a','b'], ['State','Language']] # this is how you select subset of rows"
     ],
     "language": "python",
     "metadata": {},
     "outputs": [
      {
       "html": [
        "<div style=\"max-height:1000px;max-width:1500px;overflow:auto;\">\n",
        "<table border=\"1\" class=\"dataframe\">\n",
        "  <thead>\n",
        "    <tr style=\"text-align: right;\">\n",
        "      <th></th>\n",
        "      <th>State</th>\n",
        "      <th>Language</th>\n",
        "    </tr>\n",
        "  </thead>\n",
        "  <tbody>\n",
        "    <tr>\n",
        "      <th>a</th>\n",
        "      <td>    Gujarat</td>\n",
        "      <td> Gujarati</td>\n",
        "    </tr>\n",
        "    <tr>\n",
        "      <th>b</th>\n",
        "      <td> Tamil Nadu</td>\n",
        "      <td>    Tamil</td>\n",
        "    </tr>\n",
        "  </tbody>\n",
        "</table>\n",
        "</div>"
       ],
       "metadata": {},
       "output_type": "pyout",
       "prompt_number": 128,
       "text": [
        "        State  Language\n",
        "a     Gujarat  Gujarati\n",
        "b  Tamil Nadu     Tamil"
       ]
      }
     ],
     "prompt_number": 128
    }
   ],
   "metadata": {}
  }
 ]
}